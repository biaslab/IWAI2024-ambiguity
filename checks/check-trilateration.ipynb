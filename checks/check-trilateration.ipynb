{
 "cells": [
  {
   "cell_type": "code",
   "execution_count": 1,
   "id": "c9719428-b4c6-4c3b-a729-730d7dfeed60",
   "metadata": {},
   "outputs": [],
   "source": [
    "using LinearAlgebra\n",
    "using Distributions\n",
    "using Plots\n",
    "default(label=\"\", margin=10Plots.pt)"
   ]
  },
  {
   "cell_type": "code",
   "execution_count": 2,
   "id": "31aa6848",
   "metadata": {},
   "outputs": [
    {
     "data": {
      "text/plain": [
       "(-0.6, 2.4)"
      ]
     },
     "execution_count": 2,
     "metadata": {},
     "output_type": "execute_result"
    }
   ],
   "source": [
    "# True position\n",
    "pos = (-0.6, 2.4)"
   ]
  },
  {
   "cell_type": "code",
   "execution_count": 3,
   "id": "31ba3198-ea36-40a9-b1be-2215b097f006",
   "metadata": {},
   "outputs": [
    {
     "data": {
      "text/plain": [
       "(2.1, 3.2)"
      ]
     },
     "execution_count": 3,
     "metadata": {},
     "output_type": "execute_result"
    }
   ],
   "source": [
    "# Beacon coordinates\n",
    "A = (0.5, 3.5)\n",
    "B = (0.8, 2.5)\n",
    "C = (2.1, 3.2)"
   ]
  },
  {
   "cell_type": "code",
   "execution_count": 4,
   "id": "9d92ad91",
   "metadata": {},
   "outputs": [
    {
     "data": {
      "text/plain": [
       "state2measure (generic function with 1 method)"
      ]
     },
     "execution_count": 4,
     "metadata": {},
     "output_type": "execute_result"
    }
   ],
   "source": [
    "function state2measure(pos, A, B)\n",
    "    \n",
    "    # Noisy distance to beacons\n",
    "    rA = sqrt((pos[1] - A[1])^2 + (pos[2] - A[2])^2) + 1e-1*randn()\n",
    "    rB = sqrt((pos[1] - B[1])^2 + (pos[2] - B[2])^2) + 1e-1*randn()\n",
    "    \n",
    "    return rA,rB\n",
    "end"
   ]
  },
  {
   "cell_type": "code",
   "execution_count": 5,
   "id": "95edfa7b-ba59-4903-8d51-fea27a2c186e",
   "metadata": {},
   "outputs": [
    {
     "data": {
      "text/plain": [
       "measure2state (generic function with 1 method)"
      ]
     },
     "execution_count": 5,
     "metadata": {},
     "output_type": "execute_result"
    }
   ],
   "source": [
    "function measure2state(rA, rB)\n",
    "    \n",
    "    # Intersection points\n",
    "    d = sqrt((A[1] - B[1])^2 + (A[2] - B[2])^2)\n",
    "    l = (rA^2 - rB^2 + d^2)/(2d)\n",
    "    h = sqrt(rA^2 - l^2)\n",
    "\n",
    "    x = l/d*(B[1]−A[1]) + h/d*(B[2]−A[2]) + A[1]\n",
    "    y = l/d*(B[2]-A[2]) - h/d*(B[1]-A[1]) + A[2]\n",
    "    \n",
    "    return x,y\n",
    "end"
   ]
  },
  {
   "cell_type": "code",
   "execution_count": 6,
   "id": "def6161d",
   "metadata": {},
   "outputs": [],
   "source": [
    "N = 100\n",
    "pos_est = zeros(N,2)\n",
    "\n",
    "for i = 1:100\n",
    "    \n",
    "    rA,rB = state2measure(pos,A,B)\n",
    "     \n",
    "    pos_est[i,:] .= measure2state(rA,rB)\n",
    "    \n",
    "end"
   ]
  },
  {
   "cell_type": "code",
   "execution_count": 8,
   "id": "ef6126dc-83ca-4027-8f6c-df18dbd8fa64",
   "metadata": {},
   "outputs": [
    {
     "data": {
      "image/svg+xml": [
       "<?xml version=\"1.0\" encoding=\"utf-8\"?>\n",
       "<svg xmlns=\"http://www.w3.org/2000/svg\" xmlns:xlink=\"http://www.w3.org/1999/xlink\" width=\"600\" height=\"400\" viewBox=\"0 0 2400 1600\">\n",
       "<defs>\n",
       "  <clipPath id=\"clip780\">\n",
       "    <rect x=\"0\" y=\"0\" width=\"2400\" height=\"1600\"/>\n",
       "  </clipPath>\n",
       "</defs>\n",
       "<path clip-path=\"url(#clip780)\" d=\"M0 1600 L2400 1600 L2400 0 L0 0  Z\" fill=\"#ffffff\" fill-rule=\"evenodd\" fill-opacity=\"1\"/>\n",
       "<defs>\n",
       "  <clipPath id=\"clip781\">\n",
       "    <rect x=\"480\" y=\"0\" width=\"1681\" height=\"1600\"/>\n",
       "  </clipPath>\n",
       "</defs>\n",
       "<path clip-path=\"url(#clip780)\" d=\"M552.672 1446.64 L1912.26 1446.64 L1912.26 87.0516 L552.672 87.0516  Z\" fill=\"#ffffff\" fill-rule=\"evenodd\" fill-opacity=\"1\"/>\n",
       "<defs>\n",
       "  <clipPath id=\"clip782\">\n",
       "    <rect x=\"552\" y=\"87\" width=\"1361\" height=\"1361\"/>\n",
       "  </clipPath>\n",
       "</defs>\n",
       "<polyline clip-path=\"url(#clip782)\" style=\"stroke:#000000; stroke-linecap:round; stroke-linejoin:round; stroke-width:2; stroke-opacity:0.1; fill:none\" points=\"552.672,1446.64 552.672,87.0516 \"/>\n",
       "<polyline clip-path=\"url(#clip782)\" style=\"stroke:#000000; stroke-linecap:round; stroke-linejoin:round; stroke-width:2; stroke-opacity:0.1; fill:none\" points=\"779.27,1446.64 779.27,87.0516 \"/>\n",
       "<polyline clip-path=\"url(#clip782)\" style=\"stroke:#000000; stroke-linecap:round; stroke-linejoin:round; stroke-width:2; stroke-opacity:0.1; fill:none\" points=\"1005.87,1446.64 1005.87,87.0516 \"/>\n",
       "<polyline clip-path=\"url(#clip782)\" style=\"stroke:#000000; stroke-linecap:round; stroke-linejoin:round; stroke-width:2; stroke-opacity:0.1; fill:none\" points=\"1232.47,1446.64 1232.47,87.0516 \"/>\n",
       "<polyline clip-path=\"url(#clip782)\" style=\"stroke:#000000; stroke-linecap:round; stroke-linejoin:round; stroke-width:2; stroke-opacity:0.1; fill:none\" points=\"1459.06,1446.64 1459.06,87.0516 \"/>\n",
       "<polyline clip-path=\"url(#clip782)\" style=\"stroke:#000000; stroke-linecap:round; stroke-linejoin:round; stroke-width:2; stroke-opacity:0.1; fill:none\" points=\"1685.66,1446.64 1685.66,87.0516 \"/>\n",
       "<polyline clip-path=\"url(#clip782)\" style=\"stroke:#000000; stroke-linecap:round; stroke-linejoin:round; stroke-width:2; stroke-opacity:0.1; fill:none\" points=\"1912.26,1446.64 1912.26,87.0516 \"/>\n",
       "<polyline clip-path=\"url(#clip780)\" style=\"stroke:#000000; stroke-linecap:round; stroke-linejoin:round; stroke-width:4; stroke-opacity:1; fill:none\" points=\"552.672,1446.64 1912.26,1446.64 \"/>\n",
       "<polyline clip-path=\"url(#clip780)\" style=\"stroke:#000000; stroke-linecap:round; stroke-linejoin:round; stroke-width:4; stroke-opacity:1; fill:none\" points=\"552.672,1446.64 552.672,1427.74 \"/>\n",
       "<polyline clip-path=\"url(#clip780)\" style=\"stroke:#000000; stroke-linecap:round; stroke-linejoin:round; stroke-width:4; stroke-opacity:1; fill:none\" points=\"779.27,1446.64 779.27,1427.74 \"/>\n",
       "<polyline clip-path=\"url(#clip780)\" style=\"stroke:#000000; stroke-linecap:round; stroke-linejoin:round; stroke-width:4; stroke-opacity:1; fill:none\" points=\"1005.87,1446.64 1005.87,1427.74 \"/>\n",
       "<polyline clip-path=\"url(#clip780)\" style=\"stroke:#000000; stroke-linecap:round; stroke-linejoin:round; stroke-width:4; stroke-opacity:1; fill:none\" points=\"1232.47,1446.64 1232.47,1427.74 \"/>\n",
       "<polyline clip-path=\"url(#clip780)\" style=\"stroke:#000000; stroke-linecap:round; stroke-linejoin:round; stroke-width:4; stroke-opacity:1; fill:none\" points=\"1459.06,1446.64 1459.06,1427.74 \"/>\n",
       "<polyline clip-path=\"url(#clip780)\" style=\"stroke:#000000; stroke-linecap:round; stroke-linejoin:round; stroke-width:4; stroke-opacity:1; fill:none\" points=\"1685.66,1446.64 1685.66,1427.74 \"/>\n",
       "<polyline clip-path=\"url(#clip780)\" style=\"stroke:#000000; stroke-linecap:round; stroke-linejoin:round; stroke-width:4; stroke-opacity:1; fill:none\" points=\"1912.26,1446.64 1912.26,1427.74 \"/>\n",
       "<path clip-path=\"url(#clip780)\" d=\"M522.614 1492.21 L552.29 1492.21 L552.29 1496.15 L522.614 1496.15 L522.614 1492.21 Z\" fill=\"#000000\" fill-rule=\"nonzero\" fill-opacity=\"1\" /><path clip-path=\"url(#clip780)\" d=\"M566.411 1505.11 L582.73 1505.11 L582.73 1509.04 L560.786 1509.04 L560.786 1505.11 Q563.448 1502.35 568.031 1497.72 Q572.637 1493.07 573.818 1491.73 Q576.063 1489.2 576.943 1487.47 Q577.846 1485.71 577.846 1484.02 Q577.846 1481.26 575.901 1479.53 Q573.98 1477.79 570.878 1477.79 Q568.679 1477.79 566.225 1478.55 Q563.795 1479.32 561.017 1480.87 L561.017 1476.15 Q563.841 1475.01 566.295 1474.43 Q568.748 1473.86 570.786 1473.86 Q576.156 1473.86 579.35 1476.54 Q582.545 1479.23 582.545 1483.72 Q582.545 1485.85 581.735 1487.77 Q580.947 1489.67 578.841 1492.26 Q578.262 1492.93 575.16 1496.15 Q572.059 1499.34 566.411 1505.11 Z\" fill=\"#000000\" fill-rule=\"nonzero\" fill-opacity=\"1\" /><path clip-path=\"url(#clip780)\" d=\"M749.027 1492.21 L778.703 1492.21 L778.703 1496.15 L749.027 1496.15 L749.027 1492.21 Z\" fill=\"#000000\" fill-rule=\"nonzero\" fill-opacity=\"1\" /><path clip-path=\"url(#clip780)\" d=\"M789.606 1505.11 L797.245 1505.11 L797.245 1478.74 L788.935 1480.41 L788.935 1476.15 L797.198 1474.48 L801.874 1474.48 L801.874 1505.11 L809.513 1505.11 L809.513 1509.04 L789.606 1509.04 L789.606 1505.11 Z\" fill=\"#000000\" fill-rule=\"nonzero\" fill-opacity=\"1\" /><path clip-path=\"url(#clip780)\" d=\"M1005.87 1477.56 Q1002.26 1477.56 1000.43 1481.12 Q998.623 1484.67 998.623 1491.8 Q998.623 1498.9 1000.43 1502.47 Q1002.26 1506.01 1005.87 1506.01 Q1009.5 1506.01 1011.31 1502.47 Q1013.14 1498.9 1013.14 1491.8 Q1013.14 1484.67 1011.31 1481.12 Q1009.5 1477.56 1005.87 1477.56 M1005.87 1473.86 Q1011.68 1473.86 1014.73 1478.46 Q1017.81 1483.05 1017.81 1491.8 Q1017.81 1500.52 1014.73 1505.13 Q1011.68 1509.71 1005.87 1509.71 Q1000.06 1509.71 996.98 1505.13 Q993.924 1500.52 993.924 1491.8 Q993.924 1483.05 996.98 1478.46 Q1000.06 1473.86 1005.87 1473.86 Z\" fill=\"#000000\" fill-rule=\"nonzero\" fill-opacity=\"1\" /><path clip-path=\"url(#clip780)\" d=\"M1222.85 1505.11 L1230.49 1505.11 L1230.49 1478.74 L1222.18 1480.41 L1222.18 1476.15 L1230.44 1474.48 L1235.12 1474.48 L1235.12 1505.11 L1242.76 1505.11 L1242.76 1509.04 L1222.85 1509.04 L1222.85 1505.11 Z\" fill=\"#000000\" fill-rule=\"nonzero\" fill-opacity=\"1\" /><path clip-path=\"url(#clip780)\" d=\"M1453.72 1505.11 L1470.04 1505.11 L1470.04 1509.04 L1448.09 1509.04 L1448.09 1505.11 Q1450.75 1502.35 1455.34 1497.72 Q1459.94 1493.07 1461.12 1491.73 Q1463.37 1489.2 1464.25 1487.47 Q1465.15 1485.71 1465.15 1484.02 Q1465.15 1481.26 1463.21 1479.53 Q1461.29 1477.79 1458.19 1477.79 Q1455.99 1477.79 1453.53 1478.55 Q1451.1 1479.32 1448.32 1480.87 L1448.32 1476.15 Q1451.15 1475.01 1453.6 1474.43 Q1456.06 1473.86 1458.09 1473.86 Q1463.46 1473.86 1466.66 1476.54 Q1469.85 1479.23 1469.85 1483.72 Q1469.85 1485.85 1469.04 1487.77 Q1468.25 1489.67 1466.15 1492.26 Q1465.57 1492.93 1462.47 1496.15 Q1459.37 1499.34 1453.72 1505.11 Z\" fill=\"#000000\" fill-rule=\"nonzero\" fill-opacity=\"1\" /><path clip-path=\"url(#clip780)\" d=\"M1689.91 1490.41 Q1693.27 1491.12 1695.14 1493.39 Q1697.04 1495.66 1697.04 1498.99 Q1697.04 1504.11 1693.52 1506.91 Q1690 1509.71 1683.52 1509.71 Q1681.35 1509.71 1679.03 1509.27 Q1676.74 1508.86 1674.29 1508 L1674.29 1503.48 Q1676.23 1504.62 1678.54 1505.2 Q1680.86 1505.78 1683.38 1505.78 Q1687.78 1505.78 1690.07 1504.04 Q1692.39 1502.3 1692.39 1498.99 Q1692.39 1495.94 1690.23 1494.23 Q1688.1 1492.49 1684.29 1492.49 L1680.26 1492.49 L1680.26 1488.65 L1684.47 1488.65 Q1687.92 1488.65 1689.75 1487.28 Q1691.58 1485.89 1691.58 1483.3 Q1691.58 1480.64 1689.68 1479.23 Q1687.8 1477.79 1684.29 1477.79 Q1682.36 1477.79 1680.17 1478.21 Q1677.97 1478.62 1675.33 1479.5 L1675.33 1475.34 Q1677.99 1474.6 1680.3 1474.23 Q1682.64 1473.86 1684.7 1473.86 Q1690.03 1473.86 1693.13 1476.29 Q1696.23 1478.69 1696.23 1482.81 Q1696.23 1485.68 1694.59 1487.67 Q1692.94 1489.64 1689.91 1490.41 Z\" fill=\"#000000\" fill-rule=\"nonzero\" fill-opacity=\"1\" /><path clip-path=\"url(#clip780)\" d=\"M1915.27 1478.55 L1903.46 1497 L1915.27 1497 L1915.27 1478.55 M1914.04 1474.48 L1919.92 1474.48 L1919.92 1497 L1924.85 1497 L1924.85 1500.89 L1919.92 1500.89 L1919.92 1509.04 L1915.27 1509.04 L1915.27 1500.89 L1899.67 1500.89 L1899.67 1496.38 L1914.04 1474.48 Z\" fill=\"#000000\" fill-rule=\"nonzero\" fill-opacity=\"1\" /><polyline clip-path=\"url(#clip782)\" style=\"stroke:#000000; stroke-linecap:round; stroke-linejoin:round; stroke-width:2; stroke-opacity:0.1; fill:none\" points=\"552.672,1446.64 1912.26,1446.64 \"/>\n",
       "<polyline clip-path=\"url(#clip782)\" style=\"stroke:#000000; stroke-linecap:round; stroke-linejoin:round; stroke-width:2; stroke-opacity:0.1; fill:none\" points=\"552.672,1220.04 1912.26,1220.04 \"/>\n",
       "<polyline clip-path=\"url(#clip782)\" style=\"stroke:#000000; stroke-linecap:round; stroke-linejoin:round; stroke-width:2; stroke-opacity:0.1; fill:none\" points=\"552.672,993.444 1912.26,993.444 \"/>\n",
       "<polyline clip-path=\"url(#clip782)\" style=\"stroke:#000000; stroke-linecap:round; stroke-linejoin:round; stroke-width:2; stroke-opacity:0.1; fill:none\" points=\"552.672,766.846 1912.26,766.846 \"/>\n",
       "<polyline clip-path=\"url(#clip782)\" style=\"stroke:#000000; stroke-linecap:round; stroke-linejoin:round; stroke-width:2; stroke-opacity:0.1; fill:none\" points=\"552.672,540.248 1912.26,540.248 \"/>\n",
       "<polyline clip-path=\"url(#clip782)\" style=\"stroke:#000000; stroke-linecap:round; stroke-linejoin:round; stroke-width:2; stroke-opacity:0.1; fill:none\" points=\"552.672,313.65 1912.26,313.65 \"/>\n",
       "<polyline clip-path=\"url(#clip782)\" style=\"stroke:#000000; stroke-linecap:round; stroke-linejoin:round; stroke-width:2; stroke-opacity:0.1; fill:none\" points=\"552.672,87.0516 1912.26,87.0516 \"/>\n",
       "<polyline clip-path=\"url(#clip780)\" style=\"stroke:#000000; stroke-linecap:round; stroke-linejoin:round; stroke-width:4; stroke-opacity:1; fill:none\" points=\"552.672,1446.64 552.672,87.0516 \"/>\n",
       "<polyline clip-path=\"url(#clip780)\" style=\"stroke:#000000; stroke-linecap:round; stroke-linejoin:round; stroke-width:4; stroke-opacity:1; fill:none\" points=\"552.672,1446.64 564.562,1446.64 \"/>\n",
       "<polyline clip-path=\"url(#clip780)\" style=\"stroke:#000000; stroke-linecap:round; stroke-linejoin:round; stroke-width:4; stroke-opacity:1; fill:none\" points=\"552.672,1220.04 564.562,1220.04 \"/>\n",
       "<polyline clip-path=\"url(#clip780)\" style=\"stroke:#000000; stroke-linecap:round; stroke-linejoin:round; stroke-width:4; stroke-opacity:1; fill:none\" points=\"552.672,993.444 564.562,993.444 \"/>\n",
       "<polyline clip-path=\"url(#clip780)\" style=\"stroke:#000000; stroke-linecap:round; stroke-linejoin:round; stroke-width:4; stroke-opacity:1; fill:none\" points=\"552.672,766.846 564.562,766.846 \"/>\n",
       "<polyline clip-path=\"url(#clip780)\" style=\"stroke:#000000; stroke-linecap:round; stroke-linejoin:round; stroke-width:4; stroke-opacity:1; fill:none\" points=\"552.672,540.248 564.562,540.248 \"/>\n",
       "<polyline clip-path=\"url(#clip780)\" style=\"stroke:#000000; stroke-linecap:round; stroke-linejoin:round; stroke-width:4; stroke-opacity:1; fill:none\" points=\"552.672,313.65 564.562,313.65 \"/>\n",
       "<polyline clip-path=\"url(#clip780)\" style=\"stroke:#000000; stroke-linecap:round; stroke-linejoin:round; stroke-width:4; stroke-opacity:1; fill:none\" points=\"552.672,87.0516 564.562,87.0516 \"/>\n",
       "<path clip-path=\"url(#clip780)\" d=\"M504.728 1432.44 Q501.117 1432.44 499.288 1436 Q497.482 1439.55 497.482 1446.68 Q497.482 1453.78 499.288 1457.35 Q501.117 1460.89 504.728 1460.89 Q508.362 1460.89 510.168 1457.35 Q511.996 1453.78 511.996 1446.68 Q511.996 1439.55 510.168 1436 Q508.362 1432.44 504.728 1432.44 M504.728 1428.74 Q510.538 1428.74 513.593 1433.34 Q516.672 1437.93 516.672 1446.68 Q516.672 1455.4 513.593 1460.01 Q510.538 1464.59 504.728 1464.59 Q498.918 1464.59 495.839 1460.01 Q492.783 1455.4 492.783 1446.68 Q492.783 1437.93 495.839 1433.34 Q498.918 1428.74 504.728 1428.74 Z\" fill=\"#000000\" fill-rule=\"nonzero\" fill-opacity=\"1\" /><path clip-path=\"url(#clip780)\" d=\"M496.765 1233.39 L504.404 1233.39 L504.404 1207.02 L496.094 1208.69 L496.094 1204.43 L504.357 1202.76 L509.033 1202.76 L509.033 1233.39 L516.672 1233.39 L516.672 1237.32 L496.765 1237.32 L496.765 1233.39 Z\" fill=\"#000000\" fill-rule=\"nonzero\" fill-opacity=\"1\" /><path clip-path=\"url(#clip780)\" d=\"M500.353 1006.79 L516.672 1006.79 L516.672 1010.72 L494.728 1010.72 L494.728 1006.79 Q497.39 1004.03 501.973 999.405 Q506.58 994.752 507.76 993.409 Q510.006 990.886 510.885 989.15 Q511.788 987.391 511.788 985.701 Q511.788 982.946 509.844 981.21 Q507.922 979.474 504.82 979.474 Q502.621 979.474 500.168 980.238 Q497.737 981.002 494.959 982.553 L494.959 977.831 Q497.783 976.697 500.237 976.118 Q502.691 975.539 504.728 975.539 Q510.098 975.539 513.293 978.224 Q516.487 980.909 516.487 985.4 Q516.487 987.53 515.677 989.451 Q514.89 991.349 512.783 993.942 Q512.205 994.613 509.103 997.831 Q506.001 1001.03 500.353 1006.79 Z\" fill=\"#000000\" fill-rule=\"nonzero\" fill-opacity=\"1\" /><path clip-path=\"url(#clip780)\" d=\"M509.543 765.492 Q512.899 766.209 514.774 768.478 Q516.672 770.746 516.672 774.08 Q516.672 779.195 513.154 781.996 Q509.635 784.797 503.154 784.797 Q500.978 784.797 498.663 784.357 Q496.371 783.941 493.918 783.084 L493.918 778.57 Q495.862 779.705 498.177 780.283 Q500.492 780.862 503.015 780.862 Q507.413 780.862 509.705 779.126 Q512.019 777.39 512.019 774.08 Q512.019 771.024 509.867 769.311 Q507.737 767.575 503.918 767.575 L499.89 767.575 L499.89 763.733 L504.103 763.733 Q507.552 763.733 509.381 762.367 Q511.209 760.978 511.209 758.385 Q511.209 755.723 509.311 754.311 Q507.436 752.876 503.918 752.876 Q501.996 752.876 499.797 753.293 Q497.598 753.709 494.959 754.589 L494.959 750.422 Q497.621 749.682 499.936 749.311 Q502.274 748.941 504.334 748.941 Q509.658 748.941 512.76 751.372 Q515.862 753.779 515.862 757.899 Q515.862 760.77 514.218 762.76 Q512.575 764.728 509.543 765.492 Z\" fill=\"#000000\" fill-rule=\"nonzero\" fill-opacity=\"1\" /><path clip-path=\"url(#clip780)\" d=\"M507.089 527.042 L495.283 545.491 L507.089 545.491 L507.089 527.042 M505.862 522.968 L511.742 522.968 L511.742 545.491 L516.672 545.491 L516.672 549.38 L511.742 549.38 L511.742 557.528 L507.089 557.528 L507.089 549.38 L491.487 549.38 L491.487 544.866 L505.862 522.968 Z\" fill=\"#000000\" fill-rule=\"nonzero\" fill-opacity=\"1\" /><path clip-path=\"url(#clip780)\" d=\"M495.77 296.37 L514.126 296.37 L514.126 300.305 L500.052 300.305 L500.052 308.777 Q501.07 308.43 502.089 308.268 Q503.107 308.083 504.126 308.083 Q509.913 308.083 513.293 311.254 Q516.672 314.425 516.672 319.842 Q516.672 325.421 513.2 328.522 Q509.728 331.601 503.408 331.601 Q501.232 331.601 498.964 331.231 Q496.719 330.86 494.311 330.12 L494.311 325.421 Q496.395 326.555 498.617 327.11 Q500.839 327.666 503.316 327.666 Q507.32 327.666 509.658 325.559 Q511.996 323.453 511.996 319.842 Q511.996 316.231 509.658 314.124 Q507.32 312.018 503.316 312.018 Q501.441 312.018 499.566 312.434 Q497.714 312.851 495.77 313.731 L495.77 296.37 Z\" fill=\"#000000\" fill-rule=\"nonzero\" fill-opacity=\"1\" /><path clip-path=\"url(#clip780)\" d=\"M505.144 85.1882 Q501.996 85.1882 500.144 87.341 Q498.316 89.4937 498.316 93.2437 Q498.316 96.9705 500.144 99.1465 Q501.996 101.299 505.144 101.299 Q508.293 101.299 510.121 99.1465 Q511.973 96.9705 511.973 93.2437 Q511.973 89.4937 510.121 87.341 Q508.293 85.1882 505.144 85.1882 M514.427 70.5355 L514.427 74.7947 Q512.668 73.9614 510.862 73.5216 Q509.08 73.0818 507.32 73.0818 Q502.691 73.0818 500.237 76.2068 Q497.807 79.3318 497.459 85.6512 Q498.825 83.6373 500.885 82.5725 Q502.945 81.4845 505.422 81.4845 Q510.631 81.4845 513.64 84.6558 Q516.672 87.8039 516.672 93.2437 Q516.672 98.5678 513.524 101.785 Q510.376 105.003 505.144 105.003 Q499.149 105.003 495.978 100.42 Q492.807 95.8131 492.807 87.0863 Q492.807 78.8919 496.695 74.0309 Q500.584 69.1466 507.135 69.1466 Q508.894 69.1466 510.677 69.4938 Q512.482 69.8411 514.427 70.5355 Z\" fill=\"#000000\" fill-rule=\"nonzero\" fill-opacity=\"1\" /><polyline clip-path=\"url(#clip782)\" style=\"stroke:#0000ff; stroke-linecap:round; stroke-linejoin:round; stroke-width:16; stroke-opacity:1; fill:none\" points=\"1471.67,653.547 1470.96,631.19 1468.84,608.923 1465.3,586.835 1460.37,565.016 1454.07,543.554 1446.42,522.534 1437.45,502.043 1427.2,482.161 1415.71,462.969 1403.03,444.545 1389.2,426.962 1374.29,410.291 1358.34,394.6 1341.44,379.952 1323.64,366.406 1305.02,354.015 1285.64,342.831 1265.6,332.898 1244.97,324.256 1223.83,316.94 1202.27,310.98 1180.38,306.398 1158.24,303.215 1135.94,301.442 1113.57,301.087 1091.23,302.152 1069,304.631 1046.97,308.515 1025.23,313.789 1003.87,320.43 982.979,328.413 962.632,337.706 942.916,348.27 923.908,360.063 905.688,373.038 888.326,387.142 871.895,402.319 856.459,418.508 842.081,435.643 828.818,453.656 816.725,472.474 805.849,492.02 796.236,512.217 787.922,532.983 780.942,554.235 775.325,575.887 771.091,597.851 768.26,620.039 766.841,642.363 766.841,664.731 768.26,687.055 771.091,709.243 775.325,731.207 780.942,752.859 787.922,774.11 796.236,794.877 805.849,815.074 816.725,834.62 828.818,853.438 842.081,871.45 856.459,888.586 871.895,904.774 888.326,919.952 905.688,934.056 923.908,947.031 942.916,958.824 962.632,969.388 982.979,978.68 1003.87,986.663 1025.23,993.305 1046.97,998.579 1069,1002.46 1091.23,1004.94 1113.57,1006.01 1135.94,1005.65 1158.24,1003.88 1180.38,1000.7 1202.27,996.114 1223.83,990.154 1244.97,982.838 1265.6,974.196 1285.64,964.263 1305.02,953.078 1323.64,940.688 1341.44,927.142 1358.34,912.493 1374.29,896.803 1389.2,880.132 1403.03,862.549 1415.71,844.125 1427.2,824.933 1437.45,805.051 1446.42,784.559 1454.07,763.54 1460.37,742.078 1465.3,720.259 1468.84,698.171 1470.96,675.904 1471.67,653.547 \"/>\n",
       "<circle clip-path=\"url(#clip782)\" cx=\"1119.17\" cy=\"653.547\" r=\"14.4\" fill=\"#0000ff\" fill-rule=\"evenodd\" fill-opacity=\"1\" stroke=\"#000000\" stroke-opacity=\"1\" stroke-width=\"3.2\"/>\n",
       "<polyline clip-path=\"url(#clip782)\" style=\"stroke:#ff0000; stroke-linecap:round; stroke-linejoin:round; stroke-width:16; stroke-opacity:1; fill:none\" points=\"1505.19,880.145 1504.55,859.973 1502.63,839.883 1499.45,819.955 1495,800.269 1489.31,780.904 1482.41,761.939 1474.32,743.451 1465.07,725.512 1454.7,708.197 1443.26,691.573 1430.78,675.709 1417.33,660.668 1402.94,646.511 1387.69,633.295 1371.63,621.073 1354.83,609.894 1337.35,599.803 1319.27,590.841 1300.65,583.043 1281.58,576.443 1262.13,571.065 1242.37,566.931 1222.4,564.059 1202.28,562.46 1182.1,562.139 1161.94,563.1 1141.88,565.337 1122.01,568.841 1102.4,573.599 1083.12,579.592 1064.27,586.794 1045.91,595.178 1028.12,604.709 1010.98,615.35 994.535,627.056 978.871,639.782 964.046,653.476 950.119,668.082 937.146,683.542 925.18,699.794 914.269,716.772 904.457,734.408 895.783,752.631 888.282,771.367 881.984,790.541 876.916,810.076 873.096,829.893 870.541,849.913 869.261,870.054 869.261,890.236 870.541,910.377 873.096,930.397 876.916,950.214 881.984,969.749 888.282,988.923 895.783,1007.66 904.457,1025.88 914.269,1043.52 925.18,1060.5 937.146,1076.75 950.119,1092.21 964.046,1106.81 978.871,1120.51 994.535,1133.23 1010.98,1144.94 1028.12,1155.58 1045.91,1165.11 1064.27,1173.5 1083.12,1180.7 1102.4,1186.69 1122.01,1191.45 1141.88,1194.95 1161.94,1197.19 1182.1,1198.15 1202.28,1197.83 1222.4,1196.23 1242.37,1193.36 1262.13,1189.23 1281.58,1183.85 1300.65,1177.25 1319.27,1169.45 1337.35,1160.49 1354.83,1150.4 1371.63,1139.22 1387.69,1127 1402.94,1113.78 1417.33,1099.62 1430.78,1084.58 1443.26,1068.72 1454.7,1052.09 1465.07,1034.78 1474.32,1016.84 1482.41,998.351 1489.31,979.386 1495,960.022 1499.45,940.336 1502.63,920.407 1504.55,900.317 1505.19,880.145 \"/>\n",
       "<circle clip-path=\"url(#clip782)\" cx=\"1187.15\" cy=\"880.145\" r=\"14.4\" fill=\"#ff0000\" fill-rule=\"evenodd\" fill-opacity=\"1\" stroke=\"#000000\" stroke-opacity=\"1\" stroke-width=\"3.2\"/>\n",
       "<circle clip-path=\"url(#clip782)\" cx=\"838.438\" cy=\"885.642\" r=\"7.2\" fill=\"#000000\" fill-rule=\"evenodd\" fill-opacity=\"1\" stroke=\"none\"/>\n",
       "<circle clip-path=\"url(#clip782)\" cx=\"886.014\" cy=\"945.146\" r=\"7.2\" fill=\"#000000\" fill-rule=\"evenodd\" fill-opacity=\"1\" stroke=\"none\"/>\n",
       "<circle clip-path=\"url(#clip782)\" cx=\"857.624\" cy=\"853.241\" r=\"7.2\" fill=\"#000000\" fill-rule=\"evenodd\" fill-opacity=\"1\" stroke=\"none\"/>\n",
       "<circle clip-path=\"url(#clip782)\" cx=\"848.752\" cy=\"842.123\" r=\"7.2\" fill=\"#000000\" fill-rule=\"evenodd\" fill-opacity=\"1\" stroke=\"none\"/>\n",
       "<circle clip-path=\"url(#clip782)\" cx=\"874.379\" cy=\"879.395\" r=\"7.2\" fill=\"#000000\" fill-rule=\"evenodd\" fill-opacity=\"1\" stroke=\"none\"/>\n",
       "<circle clip-path=\"url(#clip782)\" cx=\"851.891\" cy=\"895.356\" r=\"7.2\" fill=\"#000000\" fill-rule=\"evenodd\" fill-opacity=\"1\" stroke=\"none\"/>\n",
       "<circle clip-path=\"url(#clip782)\" cx=\"908.839\" cy=\"955.528\" r=\"7.2\" fill=\"#000000\" fill-rule=\"evenodd\" fill-opacity=\"1\" stroke=\"none\"/>\n",
       "<circle clip-path=\"url(#clip782)\" cx=\"901.289\" cy=\"900.458\" r=\"7.2\" fill=\"#000000\" fill-rule=\"evenodd\" fill-opacity=\"1\" stroke=\"none\"/>\n",
       "<circle clip-path=\"url(#clip782)\" cx=\"858.71\" cy=\"806.757\" r=\"7.2\" fill=\"#000000\" fill-rule=\"evenodd\" fill-opacity=\"1\" stroke=\"none\"/>\n",
       "<circle clip-path=\"url(#clip782)\" cx=\"861.42\" cy=\"929.251\" r=\"7.2\" fill=\"#000000\" fill-rule=\"evenodd\" fill-opacity=\"1\" stroke=\"none\"/>\n",
       "<circle clip-path=\"url(#clip782)\" cx=\"880.041\" cy=\"848.616\" r=\"7.2\" fill=\"#000000\" fill-rule=\"evenodd\" fill-opacity=\"1\" stroke=\"none\"/>\n",
       "<circle clip-path=\"url(#clip782)\" cx=\"848.708\" cy=\"832.858\" r=\"7.2\" fill=\"#000000\" fill-rule=\"evenodd\" fill-opacity=\"1\" stroke=\"none\"/>\n",
       "<circle clip-path=\"url(#clip782)\" cx=\"864.664\" cy=\"894.931\" r=\"7.2\" fill=\"#000000\" fill-rule=\"evenodd\" fill-opacity=\"1\" stroke=\"none\"/>\n",
       "<circle clip-path=\"url(#clip782)\" cx=\"897.144\" cy=\"882.467\" r=\"7.2\" fill=\"#000000\" fill-rule=\"evenodd\" fill-opacity=\"1\" stroke=\"none\"/>\n",
       "<circle clip-path=\"url(#clip782)\" cx=\"818.943\" cy=\"793.394\" r=\"7.2\" fill=\"#000000\" fill-rule=\"evenodd\" fill-opacity=\"1\" stroke=\"none\"/>\n",
       "<circle clip-path=\"url(#clip782)\" cx=\"879.91\" cy=\"882.167\" r=\"7.2\" fill=\"#000000\" fill-rule=\"evenodd\" fill-opacity=\"1\" stroke=\"none\"/>\n",
       "<circle clip-path=\"url(#clip782)\" cx=\"881.675\" cy=\"934.826\" r=\"7.2\" fill=\"#000000\" fill-rule=\"evenodd\" fill-opacity=\"1\" stroke=\"none\"/>\n",
       "<circle clip-path=\"url(#clip782)\" cx=\"872.897\" cy=\"944.556\" r=\"7.2\" fill=\"#000000\" fill-rule=\"evenodd\" fill-opacity=\"1\" stroke=\"none\"/>\n",
       "<circle clip-path=\"url(#clip782)\" cx=\"885.724\" cy=\"920.512\" r=\"7.2\" fill=\"#000000\" fill-rule=\"evenodd\" fill-opacity=\"1\" stroke=\"none\"/>\n",
       "<circle clip-path=\"url(#clip782)\" cx=\"863.682\" cy=\"908.447\" r=\"7.2\" fill=\"#000000\" fill-rule=\"evenodd\" fill-opacity=\"1\" stroke=\"none\"/>\n",
       "<circle clip-path=\"url(#clip782)\" cx=\"877.048\" cy=\"911.067\" r=\"7.2\" fill=\"#000000\" fill-rule=\"evenodd\" fill-opacity=\"1\" stroke=\"none\"/>\n",
       "<circle clip-path=\"url(#clip782)\" cx=\"860.465\" cy=\"840.255\" r=\"7.2\" fill=\"#000000\" fill-rule=\"evenodd\" fill-opacity=\"1\" stroke=\"none\"/>\n",
       "<circle clip-path=\"url(#clip782)\" cx=\"853.303\" cy=\"835.993\" r=\"7.2\" fill=\"#000000\" fill-rule=\"evenodd\" fill-opacity=\"1\" stroke=\"none\"/>\n",
       "<circle clip-path=\"url(#clip782)\" cx=\"928.556\" cy=\"960.011\" r=\"7.2\" fill=\"#000000\" fill-rule=\"evenodd\" fill-opacity=\"1\" stroke=\"none\"/>\n",
       "<circle clip-path=\"url(#clip782)\" cx=\"924.343\" cy=\"921.291\" r=\"7.2\" fill=\"#000000\" fill-rule=\"evenodd\" fill-opacity=\"1\" stroke=\"none\"/>\n",
       "<circle clip-path=\"url(#clip782)\" cx=\"858.693\" cy=\"876.727\" r=\"7.2\" fill=\"#000000\" fill-rule=\"evenodd\" fill-opacity=\"1\" stroke=\"none\"/>\n",
       "<circle clip-path=\"url(#clip782)\" cx=\"836.834\" cy=\"823.274\" r=\"7.2\" fill=\"#000000\" fill-rule=\"evenodd\" fill-opacity=\"1\" stroke=\"none\"/>\n",
       "<circle clip-path=\"url(#clip782)\" cx=\"858.996\" cy=\"885.926\" r=\"7.2\" fill=\"#000000\" fill-rule=\"evenodd\" fill-opacity=\"1\" stroke=\"none\"/>\n",
       "<circle clip-path=\"url(#clip782)\" cx=\"875.56\" cy=\"940.783\" r=\"7.2\" fill=\"#000000\" fill-rule=\"evenodd\" fill-opacity=\"1\" stroke=\"none\"/>\n",
       "<circle clip-path=\"url(#clip782)\" cx=\"871.544\" cy=\"980.044\" r=\"7.2\" fill=\"#000000\" fill-rule=\"evenodd\" fill-opacity=\"1\" stroke=\"none\"/>\n",
       "<circle clip-path=\"url(#clip782)\" cx=\"907.556\" cy=\"929.242\" r=\"7.2\" fill=\"#000000\" fill-rule=\"evenodd\" fill-opacity=\"1\" stroke=\"none\"/>\n",
       "<circle clip-path=\"url(#clip782)\" cx=\"866.869\" cy=\"879.159\" r=\"7.2\" fill=\"#000000\" fill-rule=\"evenodd\" fill-opacity=\"1\" stroke=\"none\"/>\n",
       "<circle clip-path=\"url(#clip782)\" cx=\"842.739\" cy=\"865.781\" r=\"7.2\" fill=\"#000000\" fill-rule=\"evenodd\" fill-opacity=\"1\" stroke=\"none\"/>\n",
       "<circle clip-path=\"url(#clip782)\" cx=\"823.813\" cy=\"854.43\" r=\"7.2\" fill=\"#000000\" fill-rule=\"evenodd\" fill-opacity=\"1\" stroke=\"none\"/>\n",
       "<circle clip-path=\"url(#clip782)\" cx=\"901.497\" cy=\"893.375\" r=\"7.2\" fill=\"#000000\" fill-rule=\"evenodd\" fill-opacity=\"1\" stroke=\"none\"/>\n",
       "<circle clip-path=\"url(#clip782)\" cx=\"840.813\" cy=\"805.344\" r=\"7.2\" fill=\"#000000\" fill-rule=\"evenodd\" fill-opacity=\"1\" stroke=\"none\"/>\n",
       "<circle clip-path=\"url(#clip782)\" cx=\"848.136\" cy=\"932.23\" r=\"7.2\" fill=\"#000000\" fill-rule=\"evenodd\" fill-opacity=\"1\" stroke=\"none\"/>\n",
       "<circle clip-path=\"url(#clip782)\" cx=\"887.529\" cy=\"921.58\" r=\"7.2\" fill=\"#000000\" fill-rule=\"evenodd\" fill-opacity=\"1\" stroke=\"none\"/>\n",
       "<circle clip-path=\"url(#clip782)\" cx=\"865.42\" cy=\"866.756\" r=\"7.2\" fill=\"#000000\" fill-rule=\"evenodd\" fill-opacity=\"1\" stroke=\"none\"/>\n",
       "<circle clip-path=\"url(#clip782)\" cx=\"845.15\" cy=\"900.666\" r=\"7.2\" fill=\"#000000\" fill-rule=\"evenodd\" fill-opacity=\"1\" stroke=\"none\"/>\n",
       "<circle clip-path=\"url(#clip782)\" cx=\"803.931\" cy=\"772.207\" r=\"7.2\" fill=\"#000000\" fill-rule=\"evenodd\" fill-opacity=\"1\" stroke=\"none\"/>\n",
       "<circle clip-path=\"url(#clip782)\" cx=\"871.856\" cy=\"960.445\" r=\"7.2\" fill=\"#000000\" fill-rule=\"evenodd\" fill-opacity=\"1\" stroke=\"none\"/>\n",
       "<circle clip-path=\"url(#clip782)\" cx=\"884.498\" cy=\"912.495\" r=\"7.2\" fill=\"#000000\" fill-rule=\"evenodd\" fill-opacity=\"1\" stroke=\"none\"/>\n",
       "<circle clip-path=\"url(#clip782)\" cx=\"862.453\" cy=\"900.434\" r=\"7.2\" fill=\"#000000\" fill-rule=\"evenodd\" fill-opacity=\"1\" stroke=\"none\"/>\n",
       "<circle clip-path=\"url(#clip782)\" cx=\"919.889\" cy=\"986.934\" r=\"7.2\" fill=\"#000000\" fill-rule=\"evenodd\" fill-opacity=\"1\" stroke=\"none\"/>\n",
       "<circle clip-path=\"url(#clip782)\" cx=\"865.289\" cy=\"906.012\" r=\"7.2\" fill=\"#000000\" fill-rule=\"evenodd\" fill-opacity=\"1\" stroke=\"none\"/>\n",
       "<circle clip-path=\"url(#clip782)\" cx=\"892.288\" cy=\"920.913\" r=\"7.2\" fill=\"#000000\" fill-rule=\"evenodd\" fill-opacity=\"1\" stroke=\"none\"/>\n",
       "<circle clip-path=\"url(#clip782)\" cx=\"946.904\" cy=\"956.18\" r=\"7.2\" fill=\"#000000\" fill-rule=\"evenodd\" fill-opacity=\"1\" stroke=\"none\"/>\n",
       "<circle clip-path=\"url(#clip782)\" cx=\"901.109\" cy=\"949.206\" r=\"7.2\" fill=\"#000000\" fill-rule=\"evenodd\" fill-opacity=\"1\" stroke=\"none\"/>\n",
       "<circle clip-path=\"url(#clip782)\" cx=\"865.552\" cy=\"900.156\" r=\"7.2\" fill=\"#000000\" fill-rule=\"evenodd\" fill-opacity=\"1\" stroke=\"none\"/>\n",
       "<circle clip-path=\"url(#clip782)\" cx=\"884.055\" cy=\"1012.21\" r=\"7.2\" fill=\"#000000\" fill-rule=\"evenodd\" fill-opacity=\"1\" stroke=\"none\"/>\n",
       "<circle clip-path=\"url(#clip782)\" cx=\"866.382\" cy=\"850.724\" r=\"7.2\" fill=\"#000000\" fill-rule=\"evenodd\" fill-opacity=\"1\" stroke=\"none\"/>\n",
       "<circle clip-path=\"url(#clip782)\" cx=\"841.616\" cy=\"851.152\" r=\"7.2\" fill=\"#000000\" fill-rule=\"evenodd\" fill-opacity=\"1\" stroke=\"none\"/>\n",
       "<circle clip-path=\"url(#clip782)\" cx=\"867.316\" cy=\"916.422\" r=\"7.2\" fill=\"#000000\" fill-rule=\"evenodd\" fill-opacity=\"1\" stroke=\"none\"/>\n",
       "<circle clip-path=\"url(#clip782)\" cx=\"854.563\" cy=\"861.778\" r=\"7.2\" fill=\"#000000\" fill-rule=\"evenodd\" fill-opacity=\"1\" stroke=\"none\"/>\n",
       "<circle clip-path=\"url(#clip782)\" cx=\"872.943\" cy=\"883.971\" r=\"7.2\" fill=\"#000000\" fill-rule=\"evenodd\" fill-opacity=\"1\" stroke=\"none\"/>\n",
       "<circle clip-path=\"url(#clip782)\" cx=\"884.896\" cy=\"924.367\" r=\"7.2\" fill=\"#000000\" fill-rule=\"evenodd\" fill-opacity=\"1\" stroke=\"none\"/>\n",
       "<circle clip-path=\"url(#clip782)\" cx=\"859.603\" cy=\"881.134\" r=\"7.2\" fill=\"#000000\" fill-rule=\"evenodd\" fill-opacity=\"1\" stroke=\"none\"/>\n",
       "<circle clip-path=\"url(#clip782)\" cx=\"893.636\" cy=\"933.489\" r=\"7.2\" fill=\"#000000\" fill-rule=\"evenodd\" fill-opacity=\"1\" stroke=\"none\"/>\n",
       "<circle clip-path=\"url(#clip782)\" cx=\"849.09\" cy=\"898.238\" r=\"7.2\" fill=\"#000000\" fill-rule=\"evenodd\" fill-opacity=\"1\" stroke=\"none\"/>\n",
       "<circle clip-path=\"url(#clip782)\" cx=\"899.982\" cy=\"986.606\" r=\"7.2\" fill=\"#000000\" fill-rule=\"evenodd\" fill-opacity=\"1\" stroke=\"none\"/>\n",
       "<circle clip-path=\"url(#clip782)\" cx=\"833.395\" cy=\"855.909\" r=\"7.2\" fill=\"#000000\" fill-rule=\"evenodd\" fill-opacity=\"1\" stroke=\"none\"/>\n",
       "<circle clip-path=\"url(#clip782)\" cx=\"886.174\" cy=\"912.487\" r=\"7.2\" fill=\"#000000\" fill-rule=\"evenodd\" fill-opacity=\"1\" stroke=\"none\"/>\n",
       "<circle clip-path=\"url(#clip782)\" cx=\"919.385\" cy=\"976.464\" r=\"7.2\" fill=\"#000000\" fill-rule=\"evenodd\" fill-opacity=\"1\" stroke=\"none\"/>\n",
       "<circle clip-path=\"url(#clip782)\" cx=\"873.829\" cy=\"847.359\" r=\"7.2\" fill=\"#000000\" fill-rule=\"evenodd\" fill-opacity=\"1\" stroke=\"none\"/>\n",
       "<circle clip-path=\"url(#clip782)\" cx=\"812.892\" cy=\"862.236\" r=\"7.2\" fill=\"#000000\" fill-rule=\"evenodd\" fill-opacity=\"1\" stroke=\"none\"/>\n",
       "<circle clip-path=\"url(#clip782)\" cx=\"891.386\" cy=\"941.204\" r=\"7.2\" fill=\"#000000\" fill-rule=\"evenodd\" fill-opacity=\"1\" stroke=\"none\"/>\n",
       "<circle clip-path=\"url(#clip782)\" cx=\"857.907\" cy=\"900.637\" r=\"7.2\" fill=\"#000000\" fill-rule=\"evenodd\" fill-opacity=\"1\" stroke=\"none\"/>\n",
       "<circle clip-path=\"url(#clip782)\" cx=\"863.714\" cy=\"891.806\" r=\"7.2\" fill=\"#000000\" fill-rule=\"evenodd\" fill-opacity=\"1\" stroke=\"none\"/>\n",
       "<circle clip-path=\"url(#clip782)\" cx=\"878.927\" cy=\"882.011\" r=\"7.2\" fill=\"#000000\" fill-rule=\"evenodd\" fill-opacity=\"1\" stroke=\"none\"/>\n",
       "<circle clip-path=\"url(#clip782)\" cx=\"922.155\" cy=\"984.599\" r=\"7.2\" fill=\"#000000\" fill-rule=\"evenodd\" fill-opacity=\"1\" stroke=\"none\"/>\n",
       "<circle clip-path=\"url(#clip782)\" cx=\"859.345\" cy=\"861.456\" r=\"7.2\" fill=\"#000000\" fill-rule=\"evenodd\" fill-opacity=\"1\" stroke=\"none\"/>\n",
       "<circle clip-path=\"url(#clip782)\" cx=\"862.013\" cy=\"904.466\" r=\"7.2\" fill=\"#000000\" fill-rule=\"evenodd\" fill-opacity=\"1\" stroke=\"none\"/>\n",
       "<circle clip-path=\"url(#clip782)\" cx=\"858.803\" cy=\"915.71\" r=\"7.2\" fill=\"#000000\" fill-rule=\"evenodd\" fill-opacity=\"1\" stroke=\"none\"/>\n",
       "<circle clip-path=\"url(#clip782)\" cx=\"870\" cy=\"882.279\" r=\"7.2\" fill=\"#000000\" fill-rule=\"evenodd\" fill-opacity=\"1\" stroke=\"none\"/>\n",
       "<circle clip-path=\"url(#clip782)\" cx=\"863.056\" cy=\"905.739\" r=\"7.2\" fill=\"#000000\" fill-rule=\"evenodd\" fill-opacity=\"1\" stroke=\"none\"/>\n",
       "<circle clip-path=\"url(#clip782)\" cx=\"849.566\" cy=\"958.619\" r=\"7.2\" fill=\"#000000\" fill-rule=\"evenodd\" fill-opacity=\"1\" stroke=\"none\"/>\n",
       "<circle clip-path=\"url(#clip782)\" cx=\"893.301\" cy=\"886.241\" r=\"7.2\" fill=\"#000000\" fill-rule=\"evenodd\" fill-opacity=\"1\" stroke=\"none\"/>\n",
       "<circle clip-path=\"url(#clip782)\" cx=\"902.347\" cy=\"924.763\" r=\"7.2\" fill=\"#000000\" fill-rule=\"evenodd\" fill-opacity=\"1\" stroke=\"none\"/>\n",
       "<circle clip-path=\"url(#clip782)\" cx=\"859.879\" cy=\"912.227\" r=\"7.2\" fill=\"#000000\" fill-rule=\"evenodd\" fill-opacity=\"1\" stroke=\"none\"/>\n",
       "<circle clip-path=\"url(#clip782)\" cx=\"884.534\" cy=\"892.736\" r=\"7.2\" fill=\"#000000\" fill-rule=\"evenodd\" fill-opacity=\"1\" stroke=\"none\"/>\n",
       "<circle clip-path=\"url(#clip782)\" cx=\"888.471\" cy=\"871.807\" r=\"7.2\" fill=\"#000000\" fill-rule=\"evenodd\" fill-opacity=\"1\" stroke=\"none\"/>\n",
       "<circle clip-path=\"url(#clip782)\" cx=\"903.887\" cy=\"932.841\" r=\"7.2\" fill=\"#000000\" fill-rule=\"evenodd\" fill-opacity=\"1\" stroke=\"none\"/>\n",
       "<circle clip-path=\"url(#clip782)\" cx=\"855.481\" cy=\"889.813\" r=\"7.2\" fill=\"#000000\" fill-rule=\"evenodd\" fill-opacity=\"1\" stroke=\"none\"/>\n",
       "<circle clip-path=\"url(#clip782)\" cx=\"871.775\" cy=\"822.746\" r=\"7.2\" fill=\"#000000\" fill-rule=\"evenodd\" fill-opacity=\"1\" stroke=\"none\"/>\n",
       "<circle clip-path=\"url(#clip782)\" cx=\"879.175\" cy=\"887.173\" r=\"7.2\" fill=\"#000000\" fill-rule=\"evenodd\" fill-opacity=\"1\" stroke=\"none\"/>\n",
       "<circle clip-path=\"url(#clip782)\" cx=\"835.978\" cy=\"864.308\" r=\"7.2\" fill=\"#000000\" fill-rule=\"evenodd\" fill-opacity=\"1\" stroke=\"none\"/>\n",
       "<circle clip-path=\"url(#clip782)\" cx=\"896.853\" cy=\"881.849\" r=\"7.2\" fill=\"#000000\" fill-rule=\"evenodd\" fill-opacity=\"1\" stroke=\"none\"/>\n",
       "<circle clip-path=\"url(#clip782)\" cx=\"844.783\" cy=\"885.288\" r=\"7.2\" fill=\"#000000\" fill-rule=\"evenodd\" fill-opacity=\"1\" stroke=\"none\"/>\n",
       "<circle clip-path=\"url(#clip782)\" cx=\"901.702\" cy=\"912.006\" r=\"7.2\" fill=\"#000000\" fill-rule=\"evenodd\" fill-opacity=\"1\" stroke=\"none\"/>\n",
       "<circle clip-path=\"url(#clip782)\" cx=\"915.415\" cy=\"979.567\" r=\"7.2\" fill=\"#000000\" fill-rule=\"evenodd\" fill-opacity=\"1\" stroke=\"none\"/>\n",
       "<circle clip-path=\"url(#clip782)\" cx=\"859.225\" cy=\"944.181\" r=\"7.2\" fill=\"#000000\" fill-rule=\"evenodd\" fill-opacity=\"1\" stroke=\"none\"/>\n",
       "<circle clip-path=\"url(#clip782)\" cx=\"869.565\" cy=\"896.465\" r=\"7.2\" fill=\"#000000\" fill-rule=\"evenodd\" fill-opacity=\"1\" stroke=\"none\"/>\n",
       "<circle clip-path=\"url(#clip782)\" cx=\"844.845\" cy=\"733.824\" r=\"7.2\" fill=\"#000000\" fill-rule=\"evenodd\" fill-opacity=\"1\" stroke=\"none\"/>\n",
       "<circle clip-path=\"url(#clip782)\" cx=\"879.858\" cy=\"889.89\" r=\"7.2\" fill=\"#000000\" fill-rule=\"evenodd\" fill-opacity=\"1\" stroke=\"none\"/>\n",
       "<circle clip-path=\"url(#clip782)\" cx=\"848.689\" cy=\"864.566\" r=\"7.2\" fill=\"#000000\" fill-rule=\"evenodd\" fill-opacity=\"1\" stroke=\"none\"/>\n",
       "<circle clip-path=\"url(#clip782)\" cx=\"827.657\" cy=\"854.937\" r=\"7.2\" fill=\"#000000\" fill-rule=\"evenodd\" fill-opacity=\"1\" stroke=\"none\"/>\n",
       "<circle clip-path=\"url(#clip782)\" cx=\"929.464\" cy=\"955.965\" r=\"7.2\" fill=\"#000000\" fill-rule=\"evenodd\" fill-opacity=\"1\" stroke=\"none\"/>\n",
       "<circle clip-path=\"url(#clip782)\" cx=\"913.043\" cy=\"935.922\" r=\"7.2\" fill=\"#000000\" fill-rule=\"evenodd\" fill-opacity=\"1\" stroke=\"none\"/>\n",
       "<circle clip-path=\"url(#clip782)\" cx=\"894.405\" cy=\"942.124\" r=\"7.2\" fill=\"#000000\" fill-rule=\"evenodd\" fill-opacity=\"1\" stroke=\"none\"/>\n",
       "<circle clip-path=\"url(#clip782)\" cx=\"869.91\" cy=\"902.805\" r=\"21.6\" fill=\"#800080\" fill-rule=\"evenodd\" fill-opacity=\"1\" stroke=\"#000000\" stroke-opacity=\"1\" stroke-width=\"3.2\"/>\n",
       "</svg>\n"
      ]
     },
     "execution_count": 8,
     "metadata": {},
     "output_type": "execute_result"
    }
   ],
   "source": [
    "t = range(0.0, stop=2π, length=100)\n",
    "\n",
    "plot(; ylims=[0., 6.], xlims=[-2., 4.], aspect_ratio=:equal)\n",
    "\n",
    "rA = sqrt((pos[1] - A[1])^2 + (pos[2] - A[2])^2)\n",
    "rB = sqrt((pos[1] - B[1])^2 + (pos[2] - B[2])^2)\n",
    "\n",
    "plot!(A[1] .+ rA*cos.(t), A[2] .+ rA*sin.(t), lw=4, color=\"blue\")\n",
    "scatter!([A[1]], [A[2]], color=\"blue\")\n",
    "plot!(B[1] .+ rB*cos.(t), B[2] .+ rB*sin.(t), lw=4, color=\"red\")\n",
    "scatter!([B[1]], [B[2]], color=\"red\")\n",
    "\n",
    "scatter!(pos_est[:,1], pos_est[:,2], color=\"black\", markersize=2)\n",
    "\n",
    "scatter!([pos[1]], [pos[2]], color=\"purple\", markersize=6)"
   ]
  },
  {
   "cell_type": "code",
   "execution_count": null,
   "id": "9d71fc53",
   "metadata": {},
   "outputs": [],
   "source": []
  }
 ],
 "metadata": {
  "kernelspec": {
   "display_name": "julia 1.8.5",
   "language": "julia",
   "name": "julia-1.8"
  },
  "language_info": {
   "file_extension": ".jl",
   "mimetype": "application/julia",
   "name": "julia",
   "version": "1.8.5"
  }
 },
 "nbformat": 4,
 "nbformat_minor": 5
}

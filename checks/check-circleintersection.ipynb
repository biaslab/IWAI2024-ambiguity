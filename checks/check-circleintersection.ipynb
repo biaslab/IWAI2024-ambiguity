{
 "cells": [
  {
   "cell_type": "code",
   "execution_count": 1,
   "id": "c9719428-b4c6-4c3b-a729-730d7dfeed60",
   "metadata": {},
   "outputs": [],
   "source": [
    "using LinearAlgebra\n",
    "using Distributions\n",
    "using Plots\n",
    "default(label=\"\", margin=10Plots.pt)"
   ]
  },
  {
   "cell_type": "code",
   "execution_count": 2,
   "id": "31ba3198-ea36-40a9-b1be-2215b097f006",
   "metadata": {},
   "outputs": [
    {
     "data": {
      "text/plain": [
       "1.8"
      ]
     },
     "execution_count": 2,
     "metadata": {},
     "output_type": "execute_result"
    }
   ],
   "source": [
    "# Center coordinates\n",
    "A = (0.5, 3.5)\n",
    "B = (0.8, 2.5)\n",
    "\n",
    "# Radii\n",
    "rA = 2.0\n",
    "rB = 1.8"
   ]
  },
  {
   "cell_type": "code",
   "execution_count": 32,
   "id": "95edfa7b-ba59-4903-8d51-fea27a2c186e",
   "metadata": {},
   "outputs": [
    {
     "data": {
      "text/plain": [
       "2.1361474506002835"
      ]
     },
     "execution_count": 32,
     "metadata": {},
     "output_type": "execute_result"
    }
   ],
   "source": [
    "# Intersection points\n",
    "d = sqrt((A[1] - B[1])^2 + (A[2] - B[2])^2)\n",
    "l = (rA^2 - rB^2 + d^2)/(2d)\n",
    "h = sqrt(rA^2 - l^2)\n",
    "\n",
    "x = l/d*(B[1]−A[1]) + h/d*(B[2]−A[2]) + A[1]\n",
    "y = l/d*(B[2]-A[2]) - h/d*(B[1]-A[1]) + A[2]"
   ]
  },
  {
   "cell_type": "code",
   "execution_count": 36,
   "id": "ef6126dc-83ca-4027-8f6c-df18dbd8fa64",
   "metadata": {},
   "outputs": [
    {
     "data": {
      "image/svg+xml": [
       "<?xml version=\"1.0\" encoding=\"utf-8\"?>\n",
       "<svg xmlns=\"http://www.w3.org/2000/svg\" xmlns:xlink=\"http://www.w3.org/1999/xlink\" width=\"600\" height=\"400\" viewBox=\"0 0 2400 1600\">\n",
       "<defs>\n",
       "  <clipPath id=\"clip120\">\n",
       "    <rect x=\"0\" y=\"0\" width=\"2400\" height=\"1600\"/>\n",
       "  </clipPath>\n",
       "</defs>\n",
       "<path clip-path=\"url(#clip120)\" d=\"\n",
       "M0 1600 L2400 1600 L2400 0 L0 0  Z\n",
       "  \" fill=\"#ffffff\" fill-rule=\"evenodd\" fill-opacity=\"1\"/>\n",
       "<defs>\n",
       "  <clipPath id=\"clip121\">\n",
       "    <rect x=\"480\" y=\"0\" width=\"1681\" height=\"1600\"/>\n",
       "  </clipPath>\n",
       "</defs>\n",
       "<path clip-path=\"url(#clip120)\" d=\"\n",
       "M552.672 1446.64 L1912.26 1446.64 L1912.26 87.0516 L552.672 87.0516  Z\n",
       "  \" fill=\"#ffffff\" fill-rule=\"evenodd\" fill-opacity=\"1\"/>\n",
       "<defs>\n",
       "  <clipPath id=\"clip122\">\n",
       "    <rect x=\"552\" y=\"87\" width=\"1361\" height=\"1361\"/>\n",
       "  </clipPath>\n",
       "</defs>\n",
       "<polyline clip-path=\"url(#clip122)\" style=\"stroke:#000000; stroke-linecap:round; stroke-linejoin:round; stroke-width:2; stroke-opacity:0.1; fill:none\" points=\"\n",
       "  552.672,1446.64 552.672,87.0516 \n",
       "  \"/>\n",
       "<polyline clip-path=\"url(#clip122)\" style=\"stroke:#000000; stroke-linecap:round; stroke-linejoin:round; stroke-width:2; stroke-opacity:0.1; fill:none\" points=\"\n",
       "  779.27,1446.64 779.27,87.0516 \n",
       "  \"/>\n",
       "<polyline clip-path=\"url(#clip122)\" style=\"stroke:#000000; stroke-linecap:round; stroke-linejoin:round; stroke-width:2; stroke-opacity:0.1; fill:none\" points=\"\n",
       "  1005.87,1446.64 1005.87,87.0516 \n",
       "  \"/>\n",
       "<polyline clip-path=\"url(#clip122)\" style=\"stroke:#000000; stroke-linecap:round; stroke-linejoin:round; stroke-width:2; stroke-opacity:0.1; fill:none\" points=\"\n",
       "  1232.47,1446.64 1232.47,87.0516 \n",
       "  \"/>\n",
       "<polyline clip-path=\"url(#clip122)\" style=\"stroke:#000000; stroke-linecap:round; stroke-linejoin:round; stroke-width:2; stroke-opacity:0.1; fill:none\" points=\"\n",
       "  1459.06,1446.64 1459.06,87.0516 \n",
       "  \"/>\n",
       "<polyline clip-path=\"url(#clip122)\" style=\"stroke:#000000; stroke-linecap:round; stroke-linejoin:round; stroke-width:2; stroke-opacity:0.1; fill:none\" points=\"\n",
       "  1685.66,1446.64 1685.66,87.0516 \n",
       "  \"/>\n",
       "<polyline clip-path=\"url(#clip122)\" style=\"stroke:#000000; stroke-linecap:round; stroke-linejoin:round; stroke-width:2; stroke-opacity:0.1; fill:none\" points=\"\n",
       "  1912.26,1446.64 1912.26,87.0516 \n",
       "  \"/>\n",
       "<polyline clip-path=\"url(#clip120)\" style=\"stroke:#000000; stroke-linecap:round; stroke-linejoin:round; stroke-width:4; stroke-opacity:1; fill:none\" points=\"\n",
       "  552.672,1446.64 1912.26,1446.64 \n",
       "  \"/>\n",
       "<polyline clip-path=\"url(#clip120)\" style=\"stroke:#000000; stroke-linecap:round; stroke-linejoin:round; stroke-width:4; stroke-opacity:1; fill:none\" points=\"\n",
       "  552.672,1446.64 552.672,1427.74 \n",
       "  \"/>\n",
       "<polyline clip-path=\"url(#clip120)\" style=\"stroke:#000000; stroke-linecap:round; stroke-linejoin:round; stroke-width:4; stroke-opacity:1; fill:none\" points=\"\n",
       "  779.27,1446.64 779.27,1427.74 \n",
       "  \"/>\n",
       "<polyline clip-path=\"url(#clip120)\" style=\"stroke:#000000; stroke-linecap:round; stroke-linejoin:round; stroke-width:4; stroke-opacity:1; fill:none\" points=\"\n",
       "  1005.87,1446.64 1005.87,1427.74 \n",
       "  \"/>\n",
       "<polyline clip-path=\"url(#clip120)\" style=\"stroke:#000000; stroke-linecap:round; stroke-linejoin:round; stroke-width:4; stroke-opacity:1; fill:none\" points=\"\n",
       "  1232.47,1446.64 1232.47,1427.74 \n",
       "  \"/>\n",
       "<polyline clip-path=\"url(#clip120)\" style=\"stroke:#000000; stroke-linecap:round; stroke-linejoin:round; stroke-width:4; stroke-opacity:1; fill:none\" points=\"\n",
       "  1459.06,1446.64 1459.06,1427.74 \n",
       "  \"/>\n",
       "<polyline clip-path=\"url(#clip120)\" style=\"stroke:#000000; stroke-linecap:round; stroke-linejoin:round; stroke-width:4; stroke-opacity:1; fill:none\" points=\"\n",
       "  1685.66,1446.64 1685.66,1427.74 \n",
       "  \"/>\n",
       "<polyline clip-path=\"url(#clip120)\" style=\"stroke:#000000; stroke-linecap:round; stroke-linejoin:round; stroke-width:4; stroke-opacity:1; fill:none\" points=\"\n",
       "  1912.26,1446.64 1912.26,1427.74 \n",
       "  \"/>\n",
       "<path clip-path=\"url(#clip120)\" d=\"M522.614 1492.21 L552.29 1492.21 L552.29 1496.15 L522.614 1496.15 L522.614 1492.21 Z\" fill=\"#000000\" fill-rule=\"evenodd\" fill-opacity=\"1\" /><path clip-path=\"url(#clip120)\" d=\"M566.411 1505.11 L582.73 1505.11 L582.73 1509.04 L560.786 1509.04 L560.786 1505.11 Q563.448 1502.35 568.031 1497.72 Q572.637 1493.07 573.818 1491.73 Q576.063 1489.2 576.943 1487.47 Q577.846 1485.71 577.846 1484.02 Q577.846 1481.26 575.901 1479.53 Q573.98 1477.79 570.878 1477.79 Q568.679 1477.79 566.225 1478.55 Q563.795 1479.32 561.017 1480.87 L561.017 1476.15 Q563.841 1475.01 566.295 1474.43 Q568.748 1473.86 570.786 1473.86 Q576.156 1473.86 579.35 1476.54 Q582.545 1479.23 582.545 1483.72 Q582.545 1485.85 581.735 1487.77 Q580.947 1489.67 578.841 1492.26 Q578.262 1492.93 575.16 1496.15 Q572.059 1499.34 566.411 1505.11 Z\" fill=\"#000000\" fill-rule=\"evenodd\" fill-opacity=\"1\" /><path clip-path=\"url(#clip120)\" d=\"M749.027 1492.21 L778.703 1492.21 L778.703 1496.15 L749.027 1496.15 L749.027 1492.21 Z\" fill=\"#000000\" fill-rule=\"evenodd\" fill-opacity=\"1\" /><path clip-path=\"url(#clip120)\" d=\"M789.606 1505.11 L797.245 1505.11 L797.245 1478.74 L788.935 1480.41 L788.935 1476.15 L797.198 1474.48 L801.874 1474.48 L801.874 1505.11 L809.513 1505.11 L809.513 1509.04 L789.606 1509.04 L789.606 1505.11 Z\" fill=\"#000000\" fill-rule=\"evenodd\" fill-opacity=\"1\" /><path clip-path=\"url(#clip120)\" d=\"M1005.87 1477.56 Q1002.26 1477.56 1000.43 1481.12 Q998.623 1484.67 998.623 1491.8 Q998.623 1498.9 1000.43 1502.47 Q1002.26 1506.01 1005.87 1506.01 Q1009.5 1506.01 1011.31 1502.47 Q1013.14 1498.9 1013.14 1491.8 Q1013.14 1484.67 1011.31 1481.12 Q1009.5 1477.56 1005.87 1477.56 M1005.87 1473.86 Q1011.68 1473.86 1014.73 1478.46 Q1017.81 1483.05 1017.81 1491.8 Q1017.81 1500.52 1014.73 1505.13 Q1011.68 1509.71 1005.87 1509.71 Q1000.06 1509.71 996.98 1505.13 Q993.924 1500.52 993.924 1491.8 Q993.924 1483.05 996.98 1478.46 Q1000.06 1473.86 1005.87 1473.86 Z\" fill=\"#000000\" fill-rule=\"evenodd\" fill-opacity=\"1\" /><path clip-path=\"url(#clip120)\" d=\"M1222.85 1505.11 L1230.49 1505.11 L1230.49 1478.74 L1222.18 1480.41 L1222.18 1476.15 L1230.44 1474.48 L1235.12 1474.48 L1235.12 1505.11 L1242.76 1505.11 L1242.76 1509.04 L1222.85 1509.04 L1222.85 1505.11 Z\" fill=\"#000000\" fill-rule=\"evenodd\" fill-opacity=\"1\" /><path clip-path=\"url(#clip120)\" d=\"M1453.72 1505.11 L1470.04 1505.11 L1470.04 1509.04 L1448.09 1509.04 L1448.09 1505.11 Q1450.75 1502.35 1455.34 1497.72 Q1459.94 1493.07 1461.12 1491.73 Q1463.37 1489.2 1464.25 1487.47 Q1465.15 1485.71 1465.15 1484.02 Q1465.15 1481.26 1463.21 1479.53 Q1461.29 1477.79 1458.19 1477.79 Q1455.99 1477.79 1453.53 1478.55 Q1451.1 1479.32 1448.32 1480.87 L1448.32 1476.15 Q1451.15 1475.01 1453.6 1474.43 Q1456.06 1473.86 1458.09 1473.86 Q1463.46 1473.86 1466.66 1476.54 Q1469.85 1479.23 1469.85 1483.72 Q1469.85 1485.85 1469.04 1487.77 Q1468.25 1489.67 1466.15 1492.26 Q1465.57 1492.93 1462.47 1496.15 Q1459.37 1499.34 1453.72 1505.11 Z\" fill=\"#000000\" fill-rule=\"evenodd\" fill-opacity=\"1\" /><path clip-path=\"url(#clip120)\" d=\"M1689.91 1490.41 Q1693.27 1491.12 1695.14 1493.39 Q1697.04 1495.66 1697.04 1498.99 Q1697.04 1504.11 1693.52 1506.91 Q1690 1509.71 1683.52 1509.71 Q1681.35 1509.71 1679.03 1509.27 Q1676.74 1508.86 1674.29 1508 L1674.29 1503.48 Q1676.23 1504.62 1678.54 1505.2 Q1680.86 1505.78 1683.38 1505.78 Q1687.78 1505.78 1690.07 1504.04 Q1692.39 1502.3 1692.39 1498.99 Q1692.39 1495.94 1690.23 1494.23 Q1688.1 1492.49 1684.29 1492.49 L1680.26 1492.49 L1680.26 1488.65 L1684.47 1488.65 Q1687.92 1488.65 1689.75 1487.28 Q1691.58 1485.89 1691.58 1483.3 Q1691.58 1480.64 1689.68 1479.23 Q1687.8 1477.79 1684.29 1477.79 Q1682.36 1477.79 1680.17 1478.21 Q1677.97 1478.62 1675.33 1479.5 L1675.33 1475.34 Q1677.99 1474.6 1680.3 1474.23 Q1682.64 1473.86 1684.7 1473.86 Q1690.03 1473.86 1693.13 1476.29 Q1696.23 1478.69 1696.23 1482.81 Q1696.23 1485.68 1694.59 1487.67 Q1692.94 1489.64 1689.91 1490.41 Z\" fill=\"#000000\" fill-rule=\"evenodd\" fill-opacity=\"1\" /><path clip-path=\"url(#clip120)\" d=\"M1915.27 1478.55 L1903.46 1497 L1915.27 1497 L1915.27 1478.55 M1914.04 1474.48 L1919.92 1474.48 L1919.92 1497 L1924.85 1497 L1924.85 1500.89 L1919.92 1500.89 L1919.92 1509.04 L1915.27 1509.04 L1915.27 1500.89 L1899.67 1500.89 L1899.67 1496.38 L1914.04 1474.48 Z\" fill=\"#000000\" fill-rule=\"evenodd\" fill-opacity=\"1\" /><polyline clip-path=\"url(#clip122)\" style=\"stroke:#000000; stroke-linecap:round; stroke-linejoin:round; stroke-width:2; stroke-opacity:0.1; fill:none\" points=\"\n",
       "  552.672,1446.64 1912.26,1446.64 \n",
       "  \"/>\n",
       "<polyline clip-path=\"url(#clip122)\" style=\"stroke:#000000; stroke-linecap:round; stroke-linejoin:round; stroke-width:2; stroke-opacity:0.1; fill:none\" points=\"\n",
       "  552.672,1220.04 1912.26,1220.04 \n",
       "  \"/>\n",
       "<polyline clip-path=\"url(#clip122)\" style=\"stroke:#000000; stroke-linecap:round; stroke-linejoin:round; stroke-width:2; stroke-opacity:0.1; fill:none\" points=\"\n",
       "  552.672,993.444 1912.26,993.444 \n",
       "  \"/>\n",
       "<polyline clip-path=\"url(#clip122)\" style=\"stroke:#000000; stroke-linecap:round; stroke-linejoin:round; stroke-width:2; stroke-opacity:0.1; fill:none\" points=\"\n",
       "  552.672,766.846 1912.26,766.846 \n",
       "  \"/>\n",
       "<polyline clip-path=\"url(#clip122)\" style=\"stroke:#000000; stroke-linecap:round; stroke-linejoin:round; stroke-width:2; stroke-opacity:0.1; fill:none\" points=\"\n",
       "  552.672,540.248 1912.26,540.248 \n",
       "  \"/>\n",
       "<polyline clip-path=\"url(#clip122)\" style=\"stroke:#000000; stroke-linecap:round; stroke-linejoin:round; stroke-width:2; stroke-opacity:0.1; fill:none\" points=\"\n",
       "  552.672,313.65 1912.26,313.65 \n",
       "  \"/>\n",
       "<polyline clip-path=\"url(#clip122)\" style=\"stroke:#000000; stroke-linecap:round; stroke-linejoin:round; stroke-width:2; stroke-opacity:0.1; fill:none\" points=\"\n",
       "  552.672,87.0516 1912.26,87.0516 \n",
       "  \"/>\n",
       "<polyline clip-path=\"url(#clip120)\" style=\"stroke:#000000; stroke-linecap:round; stroke-linejoin:round; stroke-width:4; stroke-opacity:1; fill:none\" points=\"\n",
       "  552.672,1446.64 552.672,87.0516 \n",
       "  \"/>\n",
       "<polyline clip-path=\"url(#clip120)\" style=\"stroke:#000000; stroke-linecap:round; stroke-linejoin:round; stroke-width:4; stroke-opacity:1; fill:none\" points=\"\n",
       "  552.672,1446.64 564.562,1446.64 \n",
       "  \"/>\n",
       "<polyline clip-path=\"url(#clip120)\" style=\"stroke:#000000; stroke-linecap:round; stroke-linejoin:round; stroke-width:4; stroke-opacity:1; fill:none\" points=\"\n",
       "  552.672,1220.04 564.562,1220.04 \n",
       "  \"/>\n",
       "<polyline clip-path=\"url(#clip120)\" style=\"stroke:#000000; stroke-linecap:round; stroke-linejoin:round; stroke-width:4; stroke-opacity:1; fill:none\" points=\"\n",
       "  552.672,993.444 564.562,993.444 \n",
       "  \"/>\n",
       "<polyline clip-path=\"url(#clip120)\" style=\"stroke:#000000; stroke-linecap:round; stroke-linejoin:round; stroke-width:4; stroke-opacity:1; fill:none\" points=\"\n",
       "  552.672,766.846 564.562,766.846 \n",
       "  \"/>\n",
       "<polyline clip-path=\"url(#clip120)\" style=\"stroke:#000000; stroke-linecap:round; stroke-linejoin:round; stroke-width:4; stroke-opacity:1; fill:none\" points=\"\n",
       "  552.672,540.248 564.562,540.248 \n",
       "  \"/>\n",
       "<polyline clip-path=\"url(#clip120)\" style=\"stroke:#000000; stroke-linecap:round; stroke-linejoin:round; stroke-width:4; stroke-opacity:1; fill:none\" points=\"\n",
       "  552.672,313.65 564.562,313.65 \n",
       "  \"/>\n",
       "<polyline clip-path=\"url(#clip120)\" style=\"stroke:#000000; stroke-linecap:round; stroke-linejoin:round; stroke-width:4; stroke-opacity:1; fill:none\" points=\"\n",
       "  552.672,87.0516 564.562,87.0516 \n",
       "  \"/>\n",
       "<path clip-path=\"url(#clip120)\" d=\"M504.728 1432.44 Q501.117 1432.44 499.288 1436 Q497.482 1439.55 497.482 1446.68 Q497.482 1453.78 499.288 1457.35 Q501.117 1460.89 504.728 1460.89 Q508.362 1460.89 510.168 1457.35 Q511.996 1453.78 511.996 1446.68 Q511.996 1439.55 510.168 1436 Q508.362 1432.44 504.728 1432.44 M504.728 1428.74 Q510.538 1428.74 513.593 1433.34 Q516.672 1437.93 516.672 1446.68 Q516.672 1455.4 513.593 1460.01 Q510.538 1464.59 504.728 1464.59 Q498.918 1464.59 495.839 1460.01 Q492.783 1455.4 492.783 1446.68 Q492.783 1437.93 495.839 1433.34 Q498.918 1428.74 504.728 1428.74 Z\" fill=\"#000000\" fill-rule=\"evenodd\" fill-opacity=\"1\" /><path clip-path=\"url(#clip120)\" d=\"M496.765 1233.39 L504.404 1233.39 L504.404 1207.02 L496.094 1208.69 L496.094 1204.43 L504.357 1202.76 L509.033 1202.76 L509.033 1233.39 L516.672 1233.39 L516.672 1237.32 L496.765 1237.32 L496.765 1233.39 Z\" fill=\"#000000\" fill-rule=\"evenodd\" fill-opacity=\"1\" /><path clip-path=\"url(#clip120)\" d=\"M500.353 1006.79 L516.672 1006.79 L516.672 1010.72 L494.728 1010.72 L494.728 1006.79 Q497.39 1004.03 501.973 999.405 Q506.58 994.752 507.76 993.409 Q510.006 990.886 510.885 989.15 Q511.788 987.391 511.788 985.701 Q511.788 982.946 509.844 981.21 Q507.922 979.474 504.82 979.474 Q502.621 979.474 500.168 980.238 Q497.737 981.002 494.959 982.553 L494.959 977.831 Q497.783 976.697 500.237 976.118 Q502.691 975.539 504.728 975.539 Q510.098 975.539 513.293 978.224 Q516.487 980.909 516.487 985.4 Q516.487 987.53 515.677 989.451 Q514.89 991.349 512.783 993.942 Q512.205 994.613 509.103 997.831 Q506.001 1001.03 500.353 1006.79 Z\" fill=\"#000000\" fill-rule=\"evenodd\" fill-opacity=\"1\" /><path clip-path=\"url(#clip120)\" d=\"M509.543 765.492 Q512.899 766.209 514.774 768.478 Q516.672 770.746 516.672 774.08 Q516.672 779.195 513.154 781.996 Q509.635 784.797 503.154 784.797 Q500.978 784.797 498.663 784.357 Q496.371 783.941 493.918 783.084 L493.918 778.57 Q495.862 779.705 498.177 780.283 Q500.492 780.862 503.015 780.862 Q507.413 780.862 509.705 779.126 Q512.019 777.39 512.019 774.08 Q512.019 771.024 509.867 769.311 Q507.737 767.575 503.918 767.575 L499.89 767.575 L499.89 763.733 L504.103 763.733 Q507.552 763.733 509.381 762.367 Q511.209 760.978 511.209 758.385 Q511.209 755.723 509.311 754.311 Q507.436 752.876 503.918 752.876 Q501.996 752.876 499.797 753.293 Q497.598 753.709 494.959 754.589 L494.959 750.422 Q497.621 749.682 499.936 749.311 Q502.274 748.941 504.334 748.941 Q509.658 748.941 512.76 751.372 Q515.862 753.779 515.862 757.899 Q515.862 760.77 514.218 762.76 Q512.575 764.728 509.543 765.492 Z\" fill=\"#000000\" fill-rule=\"evenodd\" fill-opacity=\"1\" /><path clip-path=\"url(#clip120)\" d=\"M507.089 527.042 L495.283 545.491 L507.089 545.491 L507.089 527.042 M505.862 522.968 L511.742 522.968 L511.742 545.491 L516.672 545.491 L516.672 549.38 L511.742 549.38 L511.742 557.528 L507.089 557.528 L507.089 549.38 L491.487 549.38 L491.487 544.866 L505.862 522.968 Z\" fill=\"#000000\" fill-rule=\"evenodd\" fill-opacity=\"1\" /><path clip-path=\"url(#clip120)\" d=\"M495.77 296.37 L514.126 296.37 L514.126 300.305 L500.052 300.305 L500.052 308.777 Q501.07 308.43 502.089 308.268 Q503.107 308.083 504.126 308.083 Q509.913 308.083 513.293 311.254 Q516.672 314.425 516.672 319.842 Q516.672 325.421 513.2 328.522 Q509.728 331.601 503.408 331.601 Q501.232 331.601 498.964 331.231 Q496.719 330.86 494.311 330.12 L494.311 325.421 Q496.395 326.555 498.617 327.11 Q500.839 327.666 503.316 327.666 Q507.32 327.666 509.658 325.559 Q511.996 323.453 511.996 319.842 Q511.996 316.231 509.658 314.124 Q507.32 312.018 503.316 312.018 Q501.441 312.018 499.566 312.434 Q497.714 312.851 495.77 313.731 L495.77 296.37 Z\" fill=\"#000000\" fill-rule=\"evenodd\" fill-opacity=\"1\" /><path clip-path=\"url(#clip120)\" d=\"M505.144 85.1882 Q501.996 85.1882 500.144 87.341 Q498.316 89.4937 498.316 93.2437 Q498.316 96.9705 500.144 99.1465 Q501.996 101.299 505.144 101.299 Q508.293 101.299 510.121 99.1465 Q511.973 96.9705 511.973 93.2437 Q511.973 89.4937 510.121 87.341 Q508.293 85.1882 505.144 85.1882 M514.427 70.5355 L514.427 74.7947 Q512.668 73.9614 510.862 73.5216 Q509.08 73.0818 507.32 73.0818 Q502.691 73.0818 500.237 76.2068 Q497.807 79.3318 497.459 85.6512 Q498.825 83.6373 500.885 82.5725 Q502.945 81.4845 505.422 81.4845 Q510.631 81.4845 513.64 84.6558 Q516.672 87.8039 516.672 93.2437 Q516.672 98.5678 513.524 101.785 Q510.376 105.003 505.144 105.003 Q499.149 105.003 495.978 100.42 Q492.807 95.8131 492.807 87.0863 Q492.807 78.8919 496.695 74.0309 Q500.584 69.1466 507.135 69.1466 Q508.894 69.1466 510.677 69.4938 Q512.482 69.8411 514.427 70.5355 Z\" fill=\"#000000\" fill-rule=\"evenodd\" fill-opacity=\"1\" /><polyline clip-path=\"url(#clip122)\" style=\"stroke:#0000ff; stroke-linecap:round; stroke-linejoin:round; stroke-width:16; stroke-opacity:1; fill:none\" points=\"\n",
       "  1572.36,653.547 1571.45,624.803 1568.72,596.176 1564.17,567.779 1557.84,539.728 1549.74,512.135 1539.9,485.111 1528.37,458.765 1515.19,433.204 1500.42,408.531 \n",
       "  1484.11,384.843 1466.34,362.238 1447.16,340.806 1426.67,320.633 1404.93,301.8 1382.05,284.384 1358.1,268.455 1333.2,254.076 1307.43,241.305 1280.91,230.195 \n",
       "  1253.73,220.789 1226.01,213.126 1197.86,207.236 1169.4,203.143 1140.73,200.864 1111.98,200.408 1083.25,201.776 1054.67,204.964 1026.35,209.957 998.403,216.737 \n",
       "  970.942,225.276 944.077,235.539 917.918,247.486 892.569,261.067 868.133,276.229 844.707,292.911 822.387,311.044 801.262,330.557 781.416,351.37 762.931,373.4 \n",
       "  745.88,396.558 730.333,420.75 716.351,445.88 703.991,471.847 693.302,498.545 684.329,525.867 677.106,553.703 671.664,581.941 668.023,610.468 666.199,639.168 \n",
       "  666.199,667.926 668.023,696.626 671.664,725.153 677.106,753.391 684.329,781.227 693.302,808.549 703.991,835.247 716.351,861.213 730.333,886.344 745.88,910.536 \n",
       "  762.931,933.694 781.416,955.724 801.262,976.537 822.387,996.05 844.707,1014.18 868.133,1030.86 892.569,1046.03 917.918,1059.61 944.077,1071.55 970.942,1081.82 \n",
       "  998.403,1090.36 1026.35,1097.14 1054.67,1102.13 1083.25,1105.32 1111.98,1106.69 1140.73,1106.23 1169.4,1103.95 1197.86,1099.86 1226.01,1093.97 1253.73,1086.31 \n",
       "  1280.91,1076.9 1307.43,1065.79 1333.2,1053.02 1358.1,1038.64 1382.05,1022.71 1404.93,1005.29 1426.67,986.461 1447.16,966.288 1466.34,944.856 1484.11,922.251 \n",
       "  1500.42,898.563 1515.19,873.889 1528.37,848.328 1539.9,821.983 1549.74,794.959 1557.84,767.366 1564.17,739.315 1568.72,710.918 1571.45,682.29 1572.36,653.547 \n",
       "  \n",
       "  \"/>\n",
       "<circle clip-path=\"url(#clip122)\" cx=\"1119.17\" cy=\"653.547\" r=\"14.4\" fill=\"#0000ff\" fill-rule=\"evenodd\" fill-opacity=\"1\" stroke=\"#000000\" stroke-opacity=\"1\" stroke-width=\"3.2\"/>\n",
       "<polyline clip-path=\"url(#clip122)\" style=\"stroke:#ff0000; stroke-linecap:round; stroke-linejoin:round; stroke-width:16; stroke-opacity:1; fill:none\" points=\"\n",
       "  1595.02,880.145 1594.2,854.276 1591.74,828.511 1587.65,802.954 1581.95,777.708 1574.66,752.874 1565.81,728.553 1555.43,704.842 1543.57,681.837 1530.27,659.63 \n",
       "  1515.6,638.312 1499.6,617.967 1482.34,598.678 1463.9,580.522 1444.33,563.573 1423.74,547.899 1402.19,533.562 1379.78,520.621 1356.58,509.127 1332.71,499.128 \n",
       "  1308.25,490.663 1283.31,483.766 1257.97,478.465 1232.36,474.782 1206.55,472.73 1180.68,472.32 1154.82,473.551 1129.1,476.42 1103.61,480.914 1078.46,487.016 \n",
       "  1053.74,494.701 1029.57,503.938 1006.02,514.69 983.209,526.914 961.216,540.559 940.133,555.572 920.045,571.892 901.032,589.454 883.171,608.186 866.534,628.012 \n",
       "  851.188,648.855 837.196,670.628 824.612,693.245 813.488,716.615 803.868,740.643 795.792,765.233 789.292,790.286 784.394,815.7 781.117,841.374 779.476,867.204 \n",
       "  779.476,893.086 781.117,918.916 784.394,944.59 789.292,970.005 795.792,995.057 803.868,1019.65 813.488,1043.68 824.612,1067.04 837.196,1089.66 851.188,1111.44 \n",
       "  866.534,1132.28 883.171,1152.1 901.032,1170.84 920.045,1188.4 940.133,1204.72 961.216,1219.73 983.209,1233.38 1006.02,1245.6 1029.57,1256.35 1053.74,1265.59 \n",
       "  1078.46,1273.27 1103.61,1279.38 1129.1,1283.87 1154.82,1286.74 1180.68,1287.97 1206.55,1287.56 1232.36,1285.51 1257.97,1281.83 1283.31,1276.52 1308.25,1269.63 \n",
       "  1332.71,1261.16 1356.58,1251.16 1379.78,1239.67 1402.19,1226.73 1423.74,1212.39 1444.33,1196.72 1463.9,1179.77 1482.34,1161.61 1499.6,1142.32 1515.6,1121.98 \n",
       "  1530.27,1100.66 1543.57,1078.45 1555.43,1055.45 1565.81,1031.74 1574.66,1007.42 1581.95,982.582 1587.65,957.336 1591.74,931.779 1594.2,906.014 1595.02,880.145 \n",
       "  \n",
       "  \"/>\n",
       "<circle clip-path=\"url(#clip122)\" cx=\"1187.15\" cy=\"880.145\" r=\"14.4\" fill=\"#ff0000\" fill-rule=\"evenodd\" fill-opacity=\"1\" stroke=\"#000000\" stroke-opacity=\"1\" stroke-width=\"3.2\"/>\n",
       "<circle clip-path=\"url(#clip122)\" cx=\"787.69\" cy=\"962.593\" r=\"28.8\" fill=\"#008000\" fill-rule=\"evenodd\" fill-opacity=\"1\" stroke=\"#000000\" stroke-opacity=\"1\" stroke-width=\"3.2\"/>\n",
       "</svg>\n"
      ]
     },
     "execution_count": 36,
     "metadata": {},
     "output_type": "execute_result"
    }
   ],
   "source": [
    "t = range(0.0, stop=2π, length=100)\n",
    "\n",
    "plot(; ylims=[0., 6.], xlims=[-2., 4.], aspect_ratio=:equal)\n",
    "\n",
    "plot!(A[1] .+ rA*cos.(t), A[2] .+ rA*sin.(t), lw=4, color=\"blue\")\n",
    "scatter!([A[1]], [A[2]], color=\"blue\")\n",
    "plot!(B[1] .+ rB*cos.(t), B[2] .+ rB*sin.(t), lw=4, color=\"red\")\n",
    "scatter!([B[1]], [B[2]], color=\"red\")\n",
    "\n",
    "scatter!([x], [y], markersize=8, color=\"green\")"
   ]
  },
  {
   "cell_type": "code",
   "execution_count": null,
   "id": "62f26074-0a39-4457-ac0c-86ed810299fb",
   "metadata": {},
   "outputs": [],
   "source": []
  }
 ],
 "metadata": {
  "kernelspec": {
   "display_name": "Julia 1.8.3",
   "language": "julia",
   "name": "julia-1.8"
  },
  "language_info": {
   "file_extension": ".jl",
   "mimetype": "application/julia",
   "name": "julia",
   "version": "1.8.3"
  }
 },
 "nbformat": 4,
 "nbformat_minor": 5
}

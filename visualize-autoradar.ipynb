{
 "cells": [
  {
   "cell_type": "markdown",
   "id": "ba1e6620",
   "metadata": {},
   "source": [
    "## Expected Free Energy minimization for mobile radar sensing\n",
    "\n",
    "Wouter Kouw, last update: 10-07-2023\n",
    "\n",
    "### Dynamics\n",
    "\n",
    "Consider a mobile robot that moves according to:\n",
    "\n",
    "$$\\underbrace{\\begin{bmatrix} c_{x,k} \\\\ c_{y,k} \\\\ \\dot{c}_{x,k} \\\\ \\dot{c}_{y,k} \\end{bmatrix}}_{z_k} = \\underbrace{\\begin{bmatrix} 1 & 0 & \\Delta t & 0 \\\\ 0 & 1 & 0 & \\Delta t \\\\ 0 & 0 & 1 & 0 \\\\ 0 & 0 & 0 & 1 \\end{bmatrix}}_{A} \\underbrace{\\begin{bmatrix} c_{x,k-1} \\\\ c_{y,k-1} \\\\ \\dot{c}_{x,k-1} \\\\ \\dot{c}_{y,k-1} \\end{bmatrix}}_{z_{k-1}} + \\underbrace{\\begin{bmatrix} 0 & 0 \\\\ 0 & 0 \\\\ \\Delta t & 0 \\\\ 0 & \\Delta t \\end{bmatrix}}_{B} \\underbrace{\\begin{bmatrix} u_{x,k} \\\\ u_{y,k}\\end{bmatrix}}_{u_k} + q_k \\, .$$\n",
    "\n",
    "Process noise is white, $q_k \\sim \\mathcal{N}(0, Q)$, with \n",
    "\n",
    "$$Q = \\begin{bmatrix} \\frac{\\Delta t^3}{3} \\rho_x & 0 & \\frac{\\Delta t^2}{2} \\rho_x & 0 \\\\\n",
    "                      0 & \\frac{\\Delta t^3}{3} \\rho_y & 0 & \\frac{\\Delta t^2}{2} \\rho_y \\\\\n",
    "                      \\frac{\\Delta t^2}{2} \\rho_x & 0 & \\Delta t \\rho_x & 0 \\\\\n",
    "                      0 & \\frac{\\Delta t^2}{2} \\rho_y & 0 & \\Delta t \\rho_y \\end{bmatrix} \\, .$$\n",
    "\n",
    "### Observations: radar\n",
    "\n",
    "The robot has a radar sensor on-board that maps Cartesian position coordinates to range-Doppler according to:\n",
    "\n",
    "$$g \\Big(\\begin{bmatrix} c_{x,k} \\\\ c_{y,k} \\\\ \\dot{c}_{x,k} \\\\ \\dot{c}_{y,k} \\end{bmatrix} \\Big) = \\begin{bmatrix}\n",
    " \\sqrt{c_{x,k}^2+c_{y,k}^2}\\\\ \\frac{c_{x,k}\\dot{c}_{x,k}+c_{y,k}\\dot{c}_{y,k}}{\\sqrt{c_{x,k}^2+c_{y,k}^2}} \\end{bmatrix}$$\n",
    "\n",
    "Given a suitable tracker, the measurement function can be written as:\n",
    "\n",
    "$$y_k = g(x_k) + r_k$$\n",
    "\n",
    "where $r_k$ is white measurement noise, $r_k \\sim \\mathcal{N}(0, R)$.\n",
    "\n",
    "### Probabilistic model\n",
    "\n",
    "The above system can be captured with a probabibilistic state-space model of the form:\n",
    "\n",
    "$$\\begin{align}\n",
    "p(z_0) &= \\mathcal{N}(z_0 \\mid m_0, S_0) \\\\\n",
    "p(z_k \\mid z_{k-1}, u_k) &= \\mathcal{N}(z_k \\mid Az_{k-1} + Bu_k, Q) \\\\\n",
    "p(y_k \\mid z_k) &= \\mathcal{N}(y_k \\mid g(z_k), R) \\, .\n",
    "\\end{align}$$\n",
    "\n",
    "We can simulate the behaviour of this system as follows:"
   ]
  },
  {
   "cell_type": "code",
   "execution_count": null,
   "id": "fd2e7d15",
   "metadata": {},
   "outputs": [],
   "source": [
    "using Pkg\n",
    "Pkg.activate(\".\")\n",
    "Pkg.instantiate()"
   ]
  },
  {
   "cell_type": "code",
   "execution_count": null,
   "id": "902a54a9",
   "metadata": {},
   "outputs": [],
   "source": [
    "using Colors\n",
    "using Optim\n",
    "using ForwardDiff\n",
    "using ProgressMeter\n",
    "using LinearAlgebra\n",
    "using ControlSystems\n",
    "using Distributions\n",
    "using Plots\n",
    "default(label=\"\", grid=false, linewidth=3, markersize=3, margin=15Plots.pt)"
   ]
  },
  {
   "cell_type": "code",
   "execution_count": null,
   "id": "523b3c81",
   "metadata": {},
   "outputs": [],
   "source": [
    "include(\"util.jl\");"
   ]
  },
  {
   "cell_type": "code",
   "execution_count": null,
   "id": "c5922146",
   "metadata": {},
   "outputs": [],
   "source": [
    "# Time\n",
    "\n",
    "Δt = 0.02\n",
    "len_time = 50\n",
    "time = range(0, step=Δt, length=len_time)"
   ]
  },
  {
   "cell_type": "code",
   "execution_count": null,
   "id": "443f71f0",
   "metadata": {},
   "outputs": [],
   "source": [
    "# Dynamics\n",
    "\n",
    "# Matrices\n",
    "A = [1. 0. Δt 0.;\n",
    "     0. 1. 0. Δt;\n",
    "     0. 0. 1. 0.;\n",
    "     0. 0. 0. 1.]\n",
    "B = [0. 0.;\n",
    "     0. 0.;\n",
    "     Δt 0.;\n",
    "     0. Δt]\n",
    "\n",
    "# Process noise\n",
    "σx = 1e-4\n",
    "σy = 1e-4\n",
    "Q = [Δt^3/3*σx         0.  Δt^2/2*σx        0.;\n",
    "        0.     Δt^3/3*σy          0. Δt^2/2*σy;\n",
    "    Δt^2/2*σx         0.       Δt*σx        0.;\n",
    "        0.     Δt^2/2*σy          0.    Δt*σy;]"
   ]
  },
  {
   "cell_type": "code",
   "execution_count": null,
   "id": "45f83172",
   "metadata": {},
   "outputs": [],
   "source": [
    "# Observations\n",
    "\n",
    "function g(x)\n",
    "    \"Radar sensing\"\n",
    "    \n",
    "    range = sqrt(x[1]^2 + x[2]^2)\n",
    "    Doppler = (x[1]*x[3] + x[2]*x[4])./sqrt(x[1]^2 + x[2]^2)\n",
    "    \n",
    "    return [range, Doppler]\n",
    "end\n",
    "\n",
    "# Measurement noise\n",
    "R = 1e-6*diagm(ones(2));"
   ]
  },
  {
   "cell_type": "code",
   "execution_count": null,
   "id": "7958d9e0",
   "metadata": {},
   "outputs": [],
   "source": [
    "function update(z_kmin1, u_k)\n",
    "   \"Update environment\" \n",
    "    \n",
    "    # State transition\n",
    "    z_k = rand(MvNormal(A*z_kmin1 + B*u_k, Q))\n",
    "    \n",
    "    # Emit noisy observation\n",
    "    y_k = rand(MvNormal(g(z_k), R))\n",
    "    \n",
    "    return y_k, z_k\n",
    "end;"
   ]
  },
  {
   "cell_type": "code",
   "execution_count": null,
   "id": "e2fbf1de",
   "metadata": {},
   "outputs": [],
   "source": [
    "# Setpoint (desired observation)\n",
    "z_star = [0.0, 1.0, 1.0, 1.0]\n",
    "y_star = g(z_star)"
   ]
  },
  {
   "cell_type": "code",
   "execution_count": null,
   "id": "9906aca7",
   "metadata": {},
   "outputs": [],
   "source": [
    "# Initial state\n",
    "z_0 = [-1., -1., 0.0, 0.0]\n",
    "\n",
    "# Preallocate\n",
    "z = zeros(4,len_time)\n",
    "y = zeros(2,len_time)\n",
    "\n",
    "# Test control\n",
    "u = rand(2,len_time)\n",
    "\n",
    "# Start recursion\n",
    "z_kmin1 = z_0\n",
    "for k in 1:len_time\n",
    "    \n",
    "    # Update system\n",
    "    y[:,k], z[:,k] = update(z_kmin1, u[:,k])\n",
    "    \n",
    "    # Update recursion\n",
    "    z_kmin1 = z[:,k]\n",
    "    \n",
    "end"
   ]
  },
  {
   "cell_type": "code",
   "execution_count": null,
   "id": "855e80bd",
   "metadata": {},
   "outputs": [],
   "source": [
    "p1 = plot(z[1,:], z[2,:], c=colormap(\"Blues\")[1:2:100], xlabel=\"x\",ylabel=\"y\", xlims=(-4, 4), ylims=(-2, 2), label=\"path\")\n",
    "scatter!([z_star[1]], [z_star[2]], color=\"green\", label=\"goal\", markersize=3)\n",
    "p2 = plot(time, u[1,:], color=\"purple\", xlabel=\"time (s)\", alpha=0.5, label=\"control x\")\n",
    "plot!(time, u[2,:], color=\"black\", xlabel=\"time (s)\", alpha=0.5, label=\"control y\")\n",
    "\n",
    "plot(p1, p2, layout=(1,2), size=(900,400))"
   ]
  },
  {
   "cell_type": "markdown",
   "id": "c4d8555c",
   "metadata": {},
   "source": [
    "## Expected Free Energy\n",
    "\n",
    "From the agent's viewpoint, the evolution of these future variables are constrained by its generative model, rolled out into the future:\n",
    "$$\\begin{aligned}\n",
    "p(y,z,u) &= \\underbrace{q(z_{k})}_{\\substack{\\text{current}\\\\ \\text{state}}} \\cdot \\underbrace{\\prod_{t=k+1}^{k+T} p(y_t|z_t) \\cdot p(z_t | z_{t-1}, u_t) p(u_t)}_{\\text{generative model roll-out to future}} \\, ,\n",
    "\\end{aligned}$$\n",
    "\n",
    "where $y = (y_t, \\dots, y_T)$, $z = (z_{t-1}, \\dots, z_T)$ and $u = (u_t, \\dots, u_T)$. \n",
    "\n",
    "Consider the varational free energy functional for estimating posterior beliefs $q(z,u)$ over future states and control signals, with an expectation over future observations $q(y \\mid z)$: \n",
    "\n",
    "$$\\begin{aligned}\n",
    "H[q] &= \\overbrace{\\iint q(y \\mid z)}^{\\text{marginalize }y} \\bigg( \\overbrace{\\int q(z,u) \\log \\frac{q(z,u)}{p(y,z,u)} }^{\\text{variational free energy}}\\bigg) \\mathrm{d}u \\, \\mathrm{d}y \\, \\mathrm{d}z \\\\\n",
    "&= \\int q(y,z,u) \\log \\frac{q(z,u)}{p(y,z,u)} \\mathrm{d}u \\, \\mathrm{d}y \\, \\mathrm{d}z \\\\\n",
    "&= \\int q(y,z|u) q(u) \\log \\frac{q(z|u) q(u)}{p(y,z|u) p(u)} \\mathrm{d}u \\, \\mathrm{d}y \\, \\mathrm{d}z \\\\\n",
    "&= \\int q(u) \\bigg(\\sum_{y,z} q(y,z|u) \\log \\frac{q(s|u) q(u)}{p(y,z|u) p(u)}\\bigg) \\mathrm{d}u \\, \\mathrm{d}y \\, \\mathrm{d}z \\\\\n",
    "&= \\int q(u) \\bigg( \\log q(u) + \\log \\frac{1}{p(u)}+ \\underbrace{q(y,z|u) \\log \\frac{q(z|u)}{p(y,z|u)}}_{G(u)}\\bigg) \\mathrm{d}u \\, \\mathrm{d}y \\, \\mathrm{d}z \\\\\n",
    "&= \\int q(u) \\log \\frac{q(u)}{p(u)\\exp\\left(- G(u)\\right) } \\mathrm{d}u  \\, .\n",
    "\\end{aligned}$$\n",
    "\n",
    "We can recognize a KL-divergence between $q(u)$ and the function $p(u)\\exp\\left(- G(u)\\right)$, which will be minimal when $q(u) = p(u)\\exp\\left(- G(u)\\right)$. The $G$ function is known as the _Expected Free Energy_. Let's look at it in detail for a future observation $t$,\n",
    "\n",
    "$$ G(u_t) = \\iint q(y_t, z_t \\mid u_t) \\log \\frac{q(z_t \\mid u_t)}{p(y_t, z_t \\mid u_t)} \\mathrm{d}y_t \\, \\mathrm{d}z_t \\, ,$$\n",
    "\n",
    "where \n",
    "\n",
    "$$\\begin{aligned}\n",
    "% q(y_t \\mid z_t) &= \\mathcal{N}(y_t \\mid Cz_t, R) \\\\\n",
    "% q(z_t \\mid u_t) &= \\int p(z_t \\mid z_{t-1}, u_t) q(z_{t-1}) \\mathrm{d}z_{t-1} \\\\\n",
    "% &= \\mathcal{N}(z_t \\mid A m_{t-1} + Bu_t, AS_{t-1}A^{\\top} + Q) \\\\\n",
    "p(y_t, z_t \\mid u_t) &= \\int p(y_t \\mid z_t) p(z_t \\mid z_{t-1}, u_t) q(z_{t-1}) \\mathrm{d}z_{t-1} \\\\\n",
    "&= \\mathcal{N}(\\begin{bmatrix} y_t \\\\ z_t \\end{bmatrix} \\mid \\begin{bmatrix} C(A m_{t-1} + Bu_t) \\\\ A m_{t-1} + Bu_t \\end{bmatrix}, \\begin{bmatrix} C(AS_{t-1}A^{\\top} + Q) C^{\\top} + R & C(AS_{t-1}A^{\\top} + Q) \\\\ (AS_{t-1}A^{\\top} + Q)C^{\\top} & AS_{t-1}A^{\\top} + Q \\end{bmatrix}) \\, ,\n",
    "\\end{aligned}$$\n",
    "\n",
    "with the approximate posterior for the previous state $q(z_{t-1}) = \\mathcal{N}(z_{t-1} \\mid m_{t-1}, S_{t-1})$. The distribution $q(z_t \\mid u_t)$ is constructed from the state transition:\n",
    "\n",
    "$$q(z_t \\mid u_t) = \\int p(z_t \\mid z_{t-1}, u_t) q(z_{t-1}) \\mathrm{d}z_{t-1} = \\mathcal{N}(z_t \\mid A m_{t-1} + Bu_t, AS_{t-1}A^{\\top} + Q) \\, ,$$\n",
    "\n",
    "and $q(y_t, z_t \\mid u) = p(y_t \\mid z_t) q(z_t \\mid u_t)$ which is equivalent to $p(y_t, z_t \\mid u_t)$ in this case. Note that - during planning and in linear Gaussian models - we can drive the KL-divergence between the approximate posteriors $q$ and the true posteriors $p$ to 0, thus allowing us to swap $q$ for $p$.\n",
    "\n",
    "We will decompose this EFE function into ambiguity plus risk terms (see [lecture slides](https://nbviewer.org/github/bertdv/BMLIP/blob/master/lessons/notebooks/Intelligent-Agents-and-Active-Inference.ipynb) for more detail). To do so, we will decompose $p(y_t,z_t \\mid u_t)$ into $p^\\prime(y_t)p(z_t|y_t,u_t)$ where $p\\prime(y_t)$ is a distribution over the goal state, a.k.a. a _goal prior_; $p^\\prime(y) = \\mathcal{N}(y \\mid m_*, s_*)$. The derivation goes as follows:\n",
    "\n",
    "$$\\begin{aligned}\n",
    "G(u_t) &= \\int  q(y_t,z_t|u_t) \\log \\frac{q(z_t|u_t)}{p^\\prime(y_t)p(z_t|y_t,u_t)} \\, \\mathrm{d}y_t \\, \\mathrm{d}z_t \\\\\n",
    "&= \\int  q(y_t, z_t \\mid u_t) \\log \\frac{q(z_t \\mid u_t)}{p^\\prime(y_t)} \\frac{1}{p(z_t \\mid y_t, u_t)} \\, \\mathrm{d}y_t \\, \\mathrm{d}z_t \\\\\n",
    "&= \\int  q(y_t, z_t \\mid u_t) \\log \\frac{q(z_t \\mid u_t)}{p^\\prime(y_t)} \\frac{p(y_t \\mid u_t)}{p(y_t \\mid z_t)p(z_t \\mid u_t)} \\, \\mathrm{d}y_t \\, \\mathrm{d}z_t \\\\\n",
    "&= \\int  q(y_t,z_t|u_t) \\log \\frac{q(z_t|u_t)}{p(y_t|z_t)p(z_t|u_t)} \\frac{p(y_t|u_t)}{p^\\prime(y_t)} \\, \\mathrm{d}y_t \\, \\mathrm{d}z_t \\\\\n",
    "&= \\int  q(y_t,z_t|u_t) \\log \\frac{q(z_t|u_t)}{p(y_t|z_t)p(z_t|u_t)} \\, \\mathrm{d}z_t \\, \\mathrm{d}y_t + \\int q(y_t,z_t|u_t) \\log \\frac{p(y_t|u_t)}{p^\\prime(y_t)} \\, \\mathrm{d}y_t \\, \\mathrm{d}z_t \\\\\n",
    "&= \\int  p(z_t|u_t) p(y_t|z_t) \\log \\frac{1}{p(y_t|z_t)} \\, \\mathrm{d}z_t \\, \\mathrm{d}y_t + \\int p(z|u) p(y|z) \\log \\frac{p(y_t|u_t)}{p^\\prime(y_t)} \\, \\mathrm{d}z_t \\, \\mathrm{d}y_t \\\\\n",
    "&= \\underbrace{\\int  p(z_t|u_t) \\int p(y_t|z_t) \\log \\frac{1}{p(y_t|z_t)} \\, \\mathrm{d}z_t \\, \\mathrm{d}y_t}_{\\text{ambiguity}} + \\underbrace{\\int p(y_t|u_t) \\log \\frac{p(y_t|u_t)}{p^\\prime(y_t)} \\, \\mathrm{d}y_t}_{\\text{risk}} \\ \\, ,\n",
    "\\end{aligned}$$\n",
    "\n",
    "Ambiguity is an expectation over an entropy, which - in the case of a Gaussian likelihood - is actually independent of the state,\n",
    "\n",
    "$$\\int p(y_t|z_t) \\log p(y_t|z_t) \\mathrm{d}y_t = \\frac{1}{2}\\big(\\log 2\\pi R - 1\\big) \\, ,$$\n",
    "\n",
    "so the expectation over $p(z_t|u_t)$ doesn't even apply. As you may have noticed, the control $u_t$ doesn't affect ambiguity which means there is no information-seeking behaviour in linear Gaussian state-space models.\n",
    "\n",
    "The risk term is a KL-divergence between the Gaussian,\n",
    "\n",
    "$$\\begin{aligned}\n",
    "    p(y_t|u_t) &= \\int p(y_t, z_t \\mid u_t) \\, \\mathrm{d}z_t  \\\\\n",
    "    &= \\int \\mathcal{N}(\\begin{bmatrix} y_t \\\\ z_t \\end{bmatrix} \\mid \\begin{bmatrix} C(A m_{t-1} + Bu_t) \\\\ A m_{t-1} + Bu_t \\end{bmatrix}, \\begin{bmatrix} C(AS_{t-1}A^{\\top} + Q) C^{\\top} + R & C(AS_{t-1}A^{\\top} + Q) \\\\ (AS_{t-1}A^{\\top} + Q)C^{\\top} & AS_{t-1}A^{\\top} + Q \\end{bmatrix}) \\, \\mathrm{d}z_t \\\\\n",
    "    &= \\mathcal{N}(y_t \\mid C(A m_{t-1} + Bu_t) , C(AS_{t-1}A^{\\top} + Q) C^{\\top} + R) \\, ,\n",
    "    \\end{aligned}$$\n",
    "    \n",
    "and the goal prior $p^\\prime(y_t)$. The formula for the KL-divergence between two Gaussians is (see [wiki](https://en.wikipedia.org/wiki/Kullback%E2%80%93Leibler_divergence#Multivariate_normal_distributions)):\n",
    "\n",
    "$$\\begin{aligned}\n",
    "D_{\\text{KL}}( \\mathcal{N}(x \\mid m_1, \\sigma_1) || \\mathcal{N}(x \\mid m_2, \\sigma_2) ) = \\frac{1}{2} \\Big[\\log\\frac{|\\Sigma_2|}{|\\Sigma_1|} - d + \\text{tr}(\\Sigma_2^{-1}\\Sigma_1) + (\\mu_2 - \\mu_1)^{\\top}\\Sigma_2^{-1}(\\mu_2 - \\mu_1) \\Big] \\, .\n",
    "\\end{aligned}$$\n",
    "\n",
    "For our distribution, this becomes:\n",
    "\n",
    "$$\\int p(y_t|u_t) \\log \\frac{p(y_t|u_t)}{p^\\prime(y_t)} \\, \\mathrm{d}y_t = \\frac{1}{2} \\Big[\\log\\frac{s_*}{|C(AS_{t-1}A^{\\top} + Q) C^{\\top} + R|} - 1 + \\text{tr}(\\frac{(C(AS_{t-1}A^{\\top} + Q) C^{\\top} + R)}{s_*}) + \\frac{\\big(m_* - (C(A m_{t-1} + Bu_t))\\big)^2}{s_*}) \\Big]$$\n",
    "\n",
    "\n",
    "The decomposition is the same for any future state $t$. We may thus unroll the policy as $G(u) = \\sum_{t=k+1}^{TT} G(u_t)$.\n",
    "\n",
    "---\n",
    "\n",
    "The above equations can be written down to form an objective function."
   ]
  },
  {
   "cell_type": "code",
   "execution_count": null,
   "id": "750b8876",
   "metadata": {},
   "outputs": [],
   "source": [
    "function ambiguity(Σ,Γ,S)\n",
    "   return 0.5*logdet(Σ - Γ'*inv(S)*Γ)\n",
    "end"
   ]
  },
  {
   "cell_type": "code",
   "execution_count": null,
   "id": "5624002f",
   "metadata": {},
   "outputs": [],
   "source": [
    "function risk(μ, Σ, goal)\n",
    "    \"Naive version\"\n",
    "    m_star, S_star = goal\n",
    "    iS = inv(S_star)\n",
    "    return log(det(S_star)/det(Σ)) + (μ-m_star)'*iS*(μ-m_star) + tr(iS*Σ)\n",
    "#     return (μ-m_star)'*iS*(μ-m_star)\n",
    "end\n",
    "\n",
    "# function risk(μ, Σ, goal)\n",
    "#     \"Numerically improved version\"\n",
    "    \n",
    "#     m_star, S_star = goal\n",
    "#     k = length(m_star)\n",
    "    \n",
    "#     L0 = cholesky(Σ).L\n",
    "#     L1 = cholesky(S_star).L\n",
    "    \n",
    "#     M = inv(L1)*L0\n",
    "#     y = inv(L1)*(m_star - μ)\n",
    "    \n",
    "#     return 0.5(sum(M[:].^2) - k + norm(y,1).^2 + 2*sum([log(L1[i,i]./L0[i,i]) for i in 1:k]))\n",
    "# end"
   ]
  },
  {
   "cell_type": "code",
   "execution_count": null,
   "id": "f16c6ef9",
   "metadata": {},
   "outputs": [],
   "source": [
    "function EFE(u::AbstractVector, \n",
    "             state::Tuple{Vector{Float64}, Matrix{Float64}}, \n",
    "             goal::Tuple{Float64,Float64}; \n",
    "             s_u::Float64=1.0,\n",
    "             time_horizon::Int64=1)\n",
    "    \"Expected Free Energy\"\n",
    "    \n",
    "    # Unpack parameters of current state\n",
    "    m_tmin1, S_tmin1 = state\n",
    "    \n",
    "    # Start cumulative sum\n",
    "    cEFE = 0.0\n",
    "    for t in 1:time_horizon\n",
    "        \n",
    "        # State transition p(z_t | u_t)\n",
    "        m_t = A*m_tmin1 + B*u[(t-1)*2+1:2t]\n",
    "        S_t = A*S_tmin1*A' + Q\n",
    "\n",
    "        # Unscented transform moments\n",
    "        μ, Σ, Γ = ET2(m_t, S_t, g, addmatrix=R, forceHermitian=true)\n",
    "        \n",
    "        # Cumulate EFE\n",
    "        cEFE += ambiguity(Σ,Γ,S) + risk(μ,Σ,goal)# + 1/(s_u)*u[t]^2\n",
    "        \n",
    "        # Update state recursion\n",
    "        m_tmin1 = m_t\n",
    "        S_tmin1 = S_t\n",
    "                \n",
    "    end\n",
    "    return cEFE\n",
    "end"
   ]
  },
  {
   "cell_type": "markdown",
   "id": "30780f17",
   "metadata": {},
   "source": [
    "### Visualization"
   ]
  },
  {
   "cell_type": "code",
   "execution_count": null,
   "id": "894a277c",
   "metadata": {},
   "outputs": [],
   "source": [
    "num_grid = 300\n",
    "xgrid = range(-1, 1, length=num_grid)\n",
    "ygrid = range(-1, 1, length=num_grid)\n",
    "S_grid = diagm(1e-2*ones(4))\n",
    "S_star = diagm(1e-2*ones(2))"
   ]
  },
  {
   "cell_type": "code",
   "execution_count": null,
   "id": "de3d258d",
   "metadata": {},
   "outputs": [],
   "source": [
    "# Plot ambiguity over state-space\n",
    "\n",
    "function helper1(x,y; S=S_grid)\n",
    "    μ, Σ, Γ = ET2([x,y,1.,1.], S, g, addmatrix=R, forceHermitian=true)\n",
    "    return ambiguity(Σ,Γ, S)\n",
    "end\n",
    "\n",
    "contourf(xgrid, ygrid, helper1, levels=100, linewidth=0, tickfontsize=15, size=(700,500))\n",
    "# surface(xgrid, ygrid, helper1)"
   ]
  },
  {
   "cell_type": "code",
   "execution_count": null,
   "id": "2975acf9",
   "metadata": {},
   "outputs": [],
   "source": [
    "savefig(\"figures/autoradar-ambiguity-statespace.png\")"
   ]
  },
  {
   "cell_type": "code",
   "execution_count": null,
   "id": "4e39030d",
   "metadata": {},
   "outputs": [],
   "source": [
    "# Plot risk over state-space\n",
    "\n",
    "function helper2(x,y; goal=(g(z_star), S_star), S=S_grid)\n",
    "    \n",
    "    m_star, S_star = goal\n",
    "    μ, Σ, Γ = ET2([x,y,0.,0.], S, g, addmatrix=R, forceHermitian=true)\n",
    "    \n",
    "    return risk(μ,Σ, goal)\n",
    "end\n",
    "\n",
    "# contourf(xgrid, ygrid, helper2, levels=10, linewidth=0, size=(700,500))\n",
    "surface(xgrid, ygrid, helper2,  camera=[30,70])\n",
    "scatter!([z_star[1]], [z_star[2]], [6], color=\"black\", markersize=3)"
   ]
  },
  {
   "cell_type": "code",
   "execution_count": null,
   "id": "44befcf2",
   "metadata": {},
   "outputs": [],
   "source": [
    "savefig(\"figures/autoradar-risk-statespace.png\")"
   ]
  },
  {
   "cell_type": "code",
   "execution_count": null,
   "id": "2a08982b",
   "metadata": {},
   "outputs": [],
   "source": [
    "# Plot both ambiguity and risk over state-space\n",
    "\n",
    "function helper3(x,y; goal=(g(z_star), S_star), S=S_grid)\n",
    "    \n",
    "    m_star, S_star = goal\n",
    "    μ, Σ, Γ = UT([x,y,0.,0.], S, g, addmatrix=R, forceHermitian=true)\n",
    "    \n",
    "    return ambiguity(Σ,Γ,S) + risk(μ,Σ, goal)\n",
    "end\n",
    "\n",
    "# contourf(xgrid, ygrid, helper3, levels=10, linewidth=0, size=(700,500))\n",
    "# scatter!([z_star[1]], [z_star[2]], color=\"green\", markersize=10, tickfontsize=15)\n",
    "surface(xgrid, ygrid, helper3, zlims=(50,200.), camera=[70,70])"
   ]
  },
  {
   "cell_type": "code",
   "execution_count": null,
   "id": "c9f8e818",
   "metadata": {},
   "outputs": [],
   "source": [
    "savefig(\"figures/autoradar-risk+ambiguity-statespace.png\")"
   ]
  },
  {
   "cell_type": "code",
   "execution_count": null,
   "id": "e5dc9eb6",
   "metadata": {},
   "outputs": [],
   "source": [
    "zlm = (50.,200.)\n",
    "p401 = surface(xgrid, ygrid, helper2, title=\"risk\", colorbar=false, zlims=zlm, camera=[40,60])\n",
    "p402 = surface(xgrid, ygrid, helper3, title=\"risk+ambiguity\", colorbar=false, zlims=zlm, camera=[40,60])\n",
    "plot(p401,p402, layout=grid(1,2), size=(1200,600))"
   ]
  },
  {
   "cell_type": "code",
   "execution_count": null,
   "id": "4a0f06b8",
   "metadata": {},
   "outputs": [],
   "source": [
    "savefig(\"figures/autoradar-objective-comparison.png\")"
   ]
  },
  {
   "cell_type": "code",
   "execution_count": null,
   "id": "83ecbcb3",
   "metadata": {},
   "outputs": [],
   "source": []
  }
 ],
 "metadata": {
  "@webio": {
   "lastCommId": null,
   "lastKernelId": null
  },
  "kernelspec": {
   "display_name": "Julia 1.9.1",
   "language": "julia",
   "name": "julia-1.9"
  },
  "language_info": {
   "file_extension": ".jl",
   "mimetype": "application/julia",
   "name": "julia",
   "version": "1.9.1"
  }
 },
 "nbformat": 4,
 "nbformat_minor": 5
}
